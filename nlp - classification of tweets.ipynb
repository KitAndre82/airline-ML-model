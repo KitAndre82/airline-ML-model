{
 "cells": [
  {
   "cell_type": "code",
   "execution_count": 1,
   "id": "703b31ee",
   "metadata": {},
   "outputs": [],
   "source": [
    "import pandas as pd"
   ]
  },
  {
   "cell_type": "code",
   "execution_count": 2,
   "id": "329a11be",
   "metadata": {},
   "outputs": [],
   "source": [
    "# Load dataset\n",
    "df = pd.read_csv('/Users/andrew/Downloads/labeled_data.csv',index_col=0)"
   ]
  },
  {
   "cell_type": "code",
   "execution_count": 3,
   "id": "983ab6c9",
   "metadata": {},
   "outputs": [
    {
     "data": {
      "text/html": [
       "<div>\n",
       "<style scoped>\n",
       "    .dataframe tbody tr th:only-of-type {\n",
       "        vertical-align: middle;\n",
       "    }\n",
       "\n",
       "    .dataframe tbody tr th {\n",
       "        vertical-align: top;\n",
       "    }\n",
       "\n",
       "    .dataframe thead th {\n",
       "        text-align: right;\n",
       "    }\n",
       "</style>\n",
       "<table border=\"1\" class=\"dataframe\">\n",
       "  <thead>\n",
       "    <tr style=\"text-align: right;\">\n",
       "      <th></th>\n",
       "      <th>count</th>\n",
       "      <th>hate_speech</th>\n",
       "      <th>offensive_language</th>\n",
       "      <th>neither</th>\n",
       "      <th>class</th>\n",
       "      <th>tweet</th>\n",
       "    </tr>\n",
       "  </thead>\n",
       "  <tbody>\n",
       "    <tr>\n",
       "      <th>0</th>\n",
       "      <td>3</td>\n",
       "      <td>0</td>\n",
       "      <td>0</td>\n",
       "      <td>3</td>\n",
       "      <td>2</td>\n",
       "      <td>!!! RT @mayasolovely: As a woman you shouldn't...</td>\n",
       "    </tr>\n",
       "    <tr>\n",
       "      <th>1</th>\n",
       "      <td>3</td>\n",
       "      <td>0</td>\n",
       "      <td>3</td>\n",
       "      <td>0</td>\n",
       "      <td>1</td>\n",
       "      <td>!!!!! RT @mleew17: boy dats cold...tyga dwn ba...</td>\n",
       "    </tr>\n",
       "    <tr>\n",
       "      <th>2</th>\n",
       "      <td>3</td>\n",
       "      <td>0</td>\n",
       "      <td>3</td>\n",
       "      <td>0</td>\n",
       "      <td>1</td>\n",
       "      <td>!!!!!!! RT @UrKindOfBrand Dawg!!!! RT @80sbaby...</td>\n",
       "    </tr>\n",
       "    <tr>\n",
       "      <th>3</th>\n",
       "      <td>3</td>\n",
       "      <td>0</td>\n",
       "      <td>2</td>\n",
       "      <td>1</td>\n",
       "      <td>1</td>\n",
       "      <td>!!!!!!!!! RT @C_G_Anderson: @viva_based she lo...</td>\n",
       "    </tr>\n",
       "    <tr>\n",
       "      <th>4</th>\n",
       "      <td>6</td>\n",
       "      <td>0</td>\n",
       "      <td>6</td>\n",
       "      <td>0</td>\n",
       "      <td>1</td>\n",
       "      <td>!!!!!!!!!!!!! RT @ShenikaRoberts: The shit you...</td>\n",
       "    </tr>\n",
       "  </tbody>\n",
       "</table>\n",
       "</div>"
      ],
      "text/plain": [
       "   count  hate_speech  offensive_language  neither  class  \\\n",
       "0      3            0                   0        3      2   \n",
       "1      3            0                   3        0      1   \n",
       "2      3            0                   3        0      1   \n",
       "3      3            0                   2        1      1   \n",
       "4      6            0                   6        0      1   \n",
       "\n",
       "                                               tweet  \n",
       "0  !!! RT @mayasolovely: As a woman you shouldn't...  \n",
       "1  !!!!! RT @mleew17: boy dats cold...tyga dwn ba...  \n",
       "2  !!!!!!! RT @UrKindOfBrand Dawg!!!! RT @80sbaby...  \n",
       "3  !!!!!!!!! RT @C_G_Anderson: @viva_based she lo...  \n",
       "4  !!!!!!!!!!!!! RT @ShenikaRoberts: The shit you...  "
      ]
     },
     "execution_count": 3,
     "metadata": {},
     "output_type": "execute_result"
    }
   ],
   "source": [
    "# View first 5 rows of dataframe\n",
    "df.head()"
   ]
  },
  {
   "cell_type": "markdown",
   "id": "84058f7f",
   "metadata": {},
   "source": [
    "The dataset has 6 columns. The 'tweet' column contains the tweets. Class has three unique values - 0,1 and 2. \n",
    "\n",
    "0 - hate speech\n",
    "\n",
    "1 - offensive language\n",
    "\n",
    "2 - neither\n",
    "\n",
    "The 'hate_speech', 'offensive_language' and 'neither' columns contain corresponding ratings of individual tweets. The 'count' column contains the count of total ratings for a tweet. "
   ]
  },
  {
   "cell_type": "code",
   "execution_count": 4,
   "id": "6efd3220",
   "metadata": {},
   "outputs": [
    {
     "data": {
      "text/plain": [
       "'!!!!!!!!!!!!!!!!!!\"@T_Madison_x: The shit just blows me..claim you so faithful and down for somebody but still fucking with hoes! &#128514;&#128514;&#128514;\"'"
      ]
     },
     "execution_count": 4,
     "metadata": {},
     "output_type": "execute_result"
    }
   ],
   "source": [
    "# Looking at a single tweet to get an idea of what to expect \n",
    "df['tweet'][5]"
   ]
  },
  {
   "cell_type": "code",
   "execution_count": 5,
   "id": "86a02b9d",
   "metadata": {},
   "outputs": [
    {
     "name": "stdout",
     "output_type": "stream",
     "text": [
      "<class 'pandas.core.frame.DataFrame'>\n",
      "Index: 24783 entries, 0 to 25296\n",
      "Data columns (total 6 columns):\n",
      " #   Column              Non-Null Count  Dtype \n",
      "---  ------              --------------  ----- \n",
      " 0   count               24783 non-null  int64 \n",
      " 1   hate_speech         24783 non-null  int64 \n",
      " 2   offensive_language  24783 non-null  int64 \n",
      " 3   neither             24783 non-null  int64 \n",
      " 4   class               24783 non-null  int64 \n",
      " 5   tweet               24783 non-null  object\n",
      "dtypes: int64(5), object(1)\n",
      "memory usage: 1.8+ MB\n"
     ]
    }
   ],
   "source": [
    "# Looking at metadata of the dataframe \n",
    "df.info()"
   ]
  },
  {
   "cell_type": "markdown",
   "id": "df924f59",
   "metadata": {},
   "source": [
    "From the above, I can see that the dataset has 24783 rows and 6 columns. 5 of the columns contain int64 data"
   ]
  },
  {
   "cell_type": "code",
   "execution_count": 6,
   "id": "e085772f",
   "metadata": {},
   "outputs": [],
   "source": [
    "# Creating a new feature called tweet_length\n",
    "df['tweet_length'] = df['tweet'].apply(len)"
   ]
  },
  {
   "cell_type": "code",
   "execution_count": 7,
   "id": "0aac5379",
   "metadata": {},
   "outputs": [
    {
     "data": {
      "text/html": [
       "<div>\n",
       "<style scoped>\n",
       "    .dataframe tbody tr th:only-of-type {\n",
       "        vertical-align: middle;\n",
       "    }\n",
       "\n",
       "    .dataframe tbody tr th {\n",
       "        vertical-align: top;\n",
       "    }\n",
       "\n",
       "    .dataframe thead th {\n",
       "        text-align: right;\n",
       "    }\n",
       "</style>\n",
       "<table border=\"1\" class=\"dataframe\">\n",
       "  <thead>\n",
       "    <tr style=\"text-align: right;\">\n",
       "      <th></th>\n",
       "      <th>count</th>\n",
       "      <th>hate_speech</th>\n",
       "      <th>offensive_language</th>\n",
       "      <th>neither</th>\n",
       "      <th>class</th>\n",
       "      <th>tweet</th>\n",
       "      <th>tweet_length</th>\n",
       "    </tr>\n",
       "  </thead>\n",
       "  <tbody>\n",
       "    <tr>\n",
       "      <th>0</th>\n",
       "      <td>3</td>\n",
       "      <td>0</td>\n",
       "      <td>0</td>\n",
       "      <td>3</td>\n",
       "      <td>2</td>\n",
       "      <td>!!! RT @mayasolovely: As a woman you shouldn't...</td>\n",
       "      <td>140</td>\n",
       "    </tr>\n",
       "    <tr>\n",
       "      <th>1</th>\n",
       "      <td>3</td>\n",
       "      <td>0</td>\n",
       "      <td>3</td>\n",
       "      <td>0</td>\n",
       "      <td>1</td>\n",
       "      <td>!!!!! RT @mleew17: boy dats cold...tyga dwn ba...</td>\n",
       "      <td>85</td>\n",
       "    </tr>\n",
       "    <tr>\n",
       "      <th>2</th>\n",
       "      <td>3</td>\n",
       "      <td>0</td>\n",
       "      <td>3</td>\n",
       "      <td>0</td>\n",
       "      <td>1</td>\n",
       "      <td>!!!!!!! RT @UrKindOfBrand Dawg!!!! RT @80sbaby...</td>\n",
       "      <td>120</td>\n",
       "    </tr>\n",
       "    <tr>\n",
       "      <th>3</th>\n",
       "      <td>3</td>\n",
       "      <td>0</td>\n",
       "      <td>2</td>\n",
       "      <td>1</td>\n",
       "      <td>1</td>\n",
       "      <td>!!!!!!!!! RT @C_G_Anderson: @viva_based she lo...</td>\n",
       "      <td>62</td>\n",
       "    </tr>\n",
       "    <tr>\n",
       "      <th>4</th>\n",
       "      <td>6</td>\n",
       "      <td>0</td>\n",
       "      <td>6</td>\n",
       "      <td>0</td>\n",
       "      <td>1</td>\n",
       "      <td>!!!!!!!!!!!!! RT @ShenikaRoberts: The shit you...</td>\n",
       "      <td>137</td>\n",
       "    </tr>\n",
       "  </tbody>\n",
       "</table>\n",
       "</div>"
      ],
      "text/plain": [
       "   count  hate_speech  offensive_language  neither  class  \\\n",
       "0      3            0                   0        3      2   \n",
       "1      3            0                   3        0      1   \n",
       "2      3            0                   3        0      1   \n",
       "3      3            0                   2        1      1   \n",
       "4      6            0                   6        0      1   \n",
       "\n",
       "                                               tweet  tweet_length  \n",
       "0  !!! RT @mayasolovely: As a woman you shouldn't...           140  \n",
       "1  !!!!! RT @mleew17: boy dats cold...tyga dwn ba...            85  \n",
       "2  !!!!!!! RT @UrKindOfBrand Dawg!!!! RT @80sbaby...           120  \n",
       "3  !!!!!!!!! RT @C_G_Anderson: @viva_based she lo...            62  \n",
       "4  !!!!!!!!!!!!! RT @ShenikaRoberts: The shit you...           137  "
      ]
     },
     "execution_count": 7,
     "metadata": {},
     "output_type": "execute_result"
    }
   ],
   "source": [
    "# Checking that last action did not introduce an error\n",
    "df.head()"
   ]
  },
  {
   "cell_type": "code",
   "execution_count": 8,
   "id": "784754be",
   "metadata": {},
   "outputs": [],
   "source": [
    "import seaborn as sns\n",
    "import matplotlib.pyplot as plt"
   ]
  },
  {
   "cell_type": "code",
   "execution_count": 9,
   "id": "09d80a1e",
   "metadata": {},
   "outputs": [
    {
     "data": {
      "image/png": "[encoded data removed]",
      "text/plain": [
       "<Figure size 640x480 with 1 Axes>"
      ]
     },
     "metadata": {},
     "output_type": "display_data"
    }
   ],
   "source": [
    "# Visualing average tweet length by class\n",
    "sns.barplot(df,x='class',y='tweet_length')\n",
    "plt.title('Average tweet length by class')\n",
    "plt.show()"
   ]
  },
  {
   "cell_type": "code",
   "execution_count": 10,
   "id": "ddf257b3",
   "metadata": {},
   "outputs": [
    {
     "data": {
      "image/png": "[encoded data removed]",
      "text/plain": [
       "<Figure size 640x480 with 1 Axes>"
      ]
     },
     "metadata": {},
     "output_type": "display_data"
    }
   ],
   "source": [
    "# Distribution of tweet length by class\n",
    "sns.histplot(data=df[df['tweet_length']<=280],\n",
    "             x=df[df['tweet_length']<=280]['tweet_length'],\n",
    "             hue=df[df['tweet_length']<=280]['class'],         \n",
    "             color='blue',\n",
    "             bins=30)\n",
    "plt.title('Distribution by tweet length')\n",
    "plt.show()"
   ]
  },
  {
   "cell_type": "code",
   "execution_count": 11,
   "id": "f1651ea4",
   "metadata": {},
   "outputs": [
    {
     "data": {
      "text/plain": [
       "class\n",
       "0     1430\n",
       "1    19190\n",
       "2     4163\n",
       "Name: tweet, dtype: int64"
      ]
     },
     "execution_count": 11,
     "metadata": {},
     "output_type": "execute_result"
    }
   ],
   "source": [
    "# Number of tweets by class\n",
    "df.groupby('class').count()['tweet']"
   ]
  },
  {
   "cell_type": "code",
   "execution_count": 12,
   "id": "2d85d2e9",
   "metadata": {},
   "outputs": [
    {
     "data": {
      "text/plain": [
       "18267"
      ]
     },
     "execution_count": 12,
     "metadata": {},
     "output_type": "execute_result"
    }
   ],
   "source": [
    "# Maximum tweet length\n",
    "max_index = df['tweet_length'].idxmax()\n",
    "max_index"
   ]
  },
  {
   "cell_type": "code",
   "execution_count": 13,
   "id": "54783106",
   "metadata": {},
   "outputs": [
    {
     "data": {
      "text/plain": [
       "'RT @TrxllLegend: One good girl is worth a thousand bitches\\n\\n&#128112; = &#128109;&#128109;&#128109;&#128109;&#128109;&#128109;&#128109;&#128109;&#128109;&#128109;&#128109;&#128109;&#128109;&#128109;&#128109;&#128109;&#128109;&#128109;&#128109;&#128109;&#128109;&#128109;&#128109;&#128109;&#128109;&#128109;&#128109;&#128109;&#128109;&#128109;&#128109;&#128109;&#128109;&#128109;&#128109;&#128109;&#128109;&#128109;&#128109;&#128109;&#128109;&#128109;&#128109;&#128109;&#128109;&#128109;&#128109;&#128109;&#128109;&#128109;&#128109;&#128109;&#128109;&#128109;&#128109;&#128109;&#128109;&#128109;&#128109;&#128109;&#128109;&#128109;&#128109;&#128109;&#128109;&#128109;&#128109;&#128109;&#128109;&#128109;&#128109;&#128109;&#128109;&#128109;&#128109;&#8230;'"
      ]
     },
     "execution_count": 13,
     "metadata": {},
     "output_type": "execute_result"
    }
   ],
   "source": [
    "# Displaying longest tweet\n",
    "# Considering that the max length of a tweet is 280, this looks like an error. Consulting stakeholders to confirm \n",
    "# why tweets like this exist in our data before dropping them is a good idea. \n",
    "\n",
    "df[df['tweet_length'] == df['tweet_length'].max()]['tweet'].loc[max_index]"
   ]
  },
  {
   "cell_type": "code",
   "execution_count": 14,
   "id": "a1d6d020",
   "metadata": {},
   "outputs": [
    {
     "name": "stdout",
     "output_type": "stream",
     "text": [
      "<class 'pandas.core.series.Series'>\n",
      "Index: 20 entries, 1145 to 22504\n",
      "Series name: tweet\n",
      "Non-Null Count  Dtype \n",
      "--------------  ----- \n",
      "20 non-null     object\n",
      "dtypes: object(1)\n",
      "memory usage: 320.0+ bytes\n"
     ]
    }
   ],
   "source": [
    "# Tweets with more than 280 characteristics\n",
    "df[df['tweet_length'] >= 280]['tweet'].info()"
   ]
  },
  {
   "cell_type": "code",
   "execution_count": 15,
   "id": "adf7d6a0",
   "metadata": {},
   "outputs": [],
   "source": [
    "# Creating a new dataframe without the rows with tweets with more than 280 characters\n",
    "df_v2 = df[df['tweet_length'] <= 280]"
   ]
  },
  {
   "cell_type": "code",
   "execution_count": 16,
   "id": "7bd6ad33",
   "metadata": {},
   "outputs": [
    {
     "name": "stdout",
     "output_type": "stream",
     "text": [
      "<class 'pandas.core.frame.DataFrame'>\n",
      "Index: 24764 entries, 0 to 25296\n",
      "Data columns (total 7 columns):\n",
      " #   Column              Non-Null Count  Dtype \n",
      "---  ------              --------------  ----- \n",
      " 0   count               24764 non-null  int64 \n",
      " 1   hate_speech         24764 non-null  int64 \n",
      " 2   offensive_language  24764 non-null  int64 \n",
      " 3   neither             24764 non-null  int64 \n",
      " 4   class               24764 non-null  int64 \n",
      " 5   tweet               24764 non-null  object\n",
      " 6   tweet_length        24764 non-null  int64 \n",
      "dtypes: int64(6), object(1)\n",
      "memory usage: 1.5+ MB\n"
     ]
    }
   ],
   "source": [
    "df_v2.info()"
   ]
  },
  {
   "cell_type": "code",
   "execution_count": 17,
   "id": "d395102f",
   "metadata": {},
   "outputs": [
    {
     "data": {
      "text/html": [
       "<div>\n",
       "<style scoped>\n",
       "    .dataframe tbody tr th:only-of-type {\n",
       "        vertical-align: middle;\n",
       "    }\n",
       "\n",
       "    .dataframe tbody tr th {\n",
       "        vertical-align: top;\n",
       "    }\n",
       "\n",
       "    .dataframe thead th {\n",
       "        text-align: right;\n",
       "    }\n",
       "</style>\n",
       "<table border=\"1\" class=\"dataframe\">\n",
       "  <thead>\n",
       "    <tr style=\"text-align: right;\">\n",
       "      <th></th>\n",
       "      <th>count</th>\n",
       "      <th>hate_speech</th>\n",
       "      <th>offensive_language</th>\n",
       "      <th>neither</th>\n",
       "      <th>class</th>\n",
       "      <th>tweet</th>\n",
       "      <th>tweet_length</th>\n",
       "    </tr>\n",
       "  </thead>\n",
       "  <tbody>\n",
       "    <tr>\n",
       "      <th>0</th>\n",
       "      <td>3</td>\n",
       "      <td>0</td>\n",
       "      <td>0</td>\n",
       "      <td>3</td>\n",
       "      <td>2</td>\n",
       "      <td>!!! RT @mayasolovely: As a woman you shouldn't...</td>\n",
       "      <td>140</td>\n",
       "    </tr>\n",
       "    <tr>\n",
       "      <th>1</th>\n",
       "      <td>3</td>\n",
       "      <td>0</td>\n",
       "      <td>3</td>\n",
       "      <td>0</td>\n",
       "      <td>1</td>\n",
       "      <td>!!!!! RT @mleew17: boy dats cold...tyga dwn ba...</td>\n",
       "      <td>85</td>\n",
       "    </tr>\n",
       "    <tr>\n",
       "      <th>2</th>\n",
       "      <td>3</td>\n",
       "      <td>0</td>\n",
       "      <td>3</td>\n",
       "      <td>0</td>\n",
       "      <td>1</td>\n",
       "      <td>!!!!!!! RT @UrKindOfBrand Dawg!!!! RT @80sbaby...</td>\n",
       "      <td>120</td>\n",
       "    </tr>\n",
       "    <tr>\n",
       "      <th>3</th>\n",
       "      <td>3</td>\n",
       "      <td>0</td>\n",
       "      <td>2</td>\n",
       "      <td>1</td>\n",
       "      <td>1</td>\n",
       "      <td>!!!!!!!!! RT @C_G_Anderson: @viva_based she lo...</td>\n",
       "      <td>62</td>\n",
       "    </tr>\n",
       "    <tr>\n",
       "      <th>4</th>\n",
       "      <td>6</td>\n",
       "      <td>0</td>\n",
       "      <td>6</td>\n",
       "      <td>0</td>\n",
       "      <td>1</td>\n",
       "      <td>!!!!!!!!!!!!! RT @ShenikaRoberts: The shit you...</td>\n",
       "      <td>137</td>\n",
       "    </tr>\n",
       "  </tbody>\n",
       "</table>\n",
       "</div>"
      ],
      "text/plain": [
       "   count  hate_speech  offensive_language  neither  class  \\\n",
       "0      3            0                   0        3      2   \n",
       "1      3            0                   3        0      1   \n",
       "2      3            0                   3        0      1   \n",
       "3      3            0                   2        1      1   \n",
       "4      6            0                   6        0      1   \n",
       "\n",
       "                                               tweet  tweet_length  \n",
       "0  !!! RT @mayasolovely: As a woman you shouldn't...           140  \n",
       "1  !!!!! RT @mleew17: boy dats cold...tyga dwn ba...            85  \n",
       "2  !!!!!!! RT @UrKindOfBrand Dawg!!!! RT @80sbaby...           120  \n",
       "3  !!!!!!!!! RT @C_G_Anderson: @viva_based she lo...            62  \n",
       "4  !!!!!!!!!!!!! RT @ShenikaRoberts: The shit you...           137  "
      ]
     },
     "execution_count": 17,
     "metadata": {},
     "output_type": "execute_result"
    }
   ],
   "source": [
    "# Displaying first five rows of new dataset\n",
    "df_v2.head()"
   ]
  },
  {
   "cell_type": "code",
   "execution_count": 18,
   "id": "74665635",
   "metadata": {},
   "outputs": [
    {
     "data": {
      "image/png": "[encoded data removed]",
      "text/plain": [
       "<Figure size 640x480 with 4 Axes>"
      ]
     },
     "metadata": {},
     "output_type": "display_data"
    }
   ],
   "source": [
    "# Distribution of tweet_length by class\n",
    "import matplotlib.pyplot as plt\n",
    "df_v2.hist(column='tweet_length',by='class',bins=20)\n",
    "plt.show()"
   ]
  },
  {
   "cell_type": "code",
   "execution_count": 19,
   "id": "ce73afc2",
   "metadata": {},
   "outputs": [
    {
     "data": {
      "text/plain": [
       "class\n",
       "0    84.586713\n",
       "1    83.155435\n",
       "2    94.747477\n",
       "Name: tweet_length, dtype: float64"
      ]
     },
     "execution_count": 19,
     "metadata": {},
     "output_type": "execute_result"
    }
   ],
   "source": [
    "# Mean tweet length by class\n",
    "df_v2.groupby('class')['tweet_length'].mean()"
   ]
  },
  {
   "cell_type": "code",
   "execution_count": 20,
   "id": "1908a1b6",
   "metadata": {},
   "outputs": [],
   "source": [
    "def remove_username(tweet):\n",
    "    '''Function that takes a tweet as an agreement and removes \n",
    "    twitter handle\n",
    "    '''\n",
    "    words_list = []\n",
    "    for word in tweet.split():\n",
    "        if not word.startswith('@'):\n",
    "            words_list.append(word)\n",
    "    return ' '.join(words_list)\n"
   ]
  },
  {
   "cell_type": "code",
   "execution_count": 21,
   "id": "133a8782",
   "metadata": {},
   "outputs": [],
   "source": [
    "# Libraries needed for custom text_processing function below\n",
    "import string\n",
    "from nltk.corpus import stopwords"
   ]
  },
  {
   "cell_type": "code",
   "execution_count": 22,
   "id": "ebba5738",
   "metadata": {},
   "outputs": [],
   "source": [
    "def text_processing(tweet):\n",
    "    ''' Function takes in tweet as argument and returns a list of \n",
    "    of words in the string with stopwords, punctuation marks and \n",
    "    the twitter handle removed'''\n",
    "    words_list = []\n",
    "    for word in tweet.split():\n",
    "        if word.startswith('@'):\n",
    "            continue  # Skip twitter handles\n",
    "        else:\n",
    "            words_list.append(word)\n",
    "\n",
    "    nopunc = [char for char in ' '.join(words_list) if char not in string.punctuation]\n",
    "    nopunc = ''.join(nopunc)\n",
    "    return [word for word in nopunc.split() if word.lower() not in stopwords.words('english')]"
   ]
  },
  {
   "cell_type": "code",
   "execution_count": 23,
   "id": "1655685a",
   "metadata": {},
   "outputs": [],
   "source": [
    "#df_v2['tweet_edited'] = df_v2['tweet'].apply(remove_username)"
   ]
  },
  {
   "cell_type": "code",
   "execution_count": 24,
   "id": "b0d99c89",
   "metadata": {},
   "outputs": [
    {
     "name": "stderr",
     "output_type": "stream",
     "text": [
      "/var/folders/4z/s5yytqj535948_tn28lrcsr40000gn/T/ipykernel_12554/254109192.py:2: SettingWithCopyWarning: \n",
      "A value is trying to be set on a copy of a slice from a DataFrame.\n",
      "Try using .loc[row_indexer,col_indexer] = value instead\n",
      "\n",
      "See the caveats in the documentation: https://pandas.pydata.org/pandas-docs/stable/user_guide/indexing.html#returning-a-view-versus-a-copy\n",
      "  df_v2['tweet_edited'] = df_v2['tweet'].apply(text_processing)\n"
     ]
    }
   ],
   "source": [
    "# New tweet feature created using text_processing function\n",
    "df_v2['tweet_edited'] = df_v2['tweet'].apply(text_processing)"
   ]
  },
  {
   "cell_type": "code",
   "execution_count": 25,
   "id": "cc6cb94d",
   "metadata": {},
   "outputs": [
    {
     "data": {
      "text/html": [
       "<div>\n",
       "<style scoped>\n",
       "    .dataframe tbody tr th:only-of-type {\n",
       "        vertical-align: middle;\n",
       "    }\n",
       "\n",
       "    .dataframe tbody tr th {\n",
       "        vertical-align: top;\n",
       "    }\n",
       "\n",
       "    .dataframe thead th {\n",
       "        text-align: right;\n",
       "    }\n",
       "</style>\n",
       "<table border=\"1\" class=\"dataframe\">\n",
       "  <thead>\n",
       "    <tr style=\"text-align: right;\">\n",
       "      <th></th>\n",
       "      <th>count</th>\n",
       "      <th>hate_speech</th>\n",
       "      <th>offensive_language</th>\n",
       "      <th>neither</th>\n",
       "      <th>class</th>\n",
       "      <th>tweet</th>\n",
       "      <th>tweet_length</th>\n",
       "      <th>tweet_edited</th>\n",
       "    </tr>\n",
       "  </thead>\n",
       "  <tbody>\n",
       "    <tr>\n",
       "      <th>0</th>\n",
       "      <td>3</td>\n",
       "      <td>0</td>\n",
       "      <td>0</td>\n",
       "      <td>3</td>\n",
       "      <td>2</td>\n",
       "      <td>!!! RT @mayasolovely: As a woman you shouldn't...</td>\n",
       "      <td>140</td>\n",
       "      <td>[RT, woman, shouldnt, complain, cleaning, hous...</td>\n",
       "    </tr>\n",
       "    <tr>\n",
       "      <th>1</th>\n",
       "      <td>3</td>\n",
       "      <td>0</td>\n",
       "      <td>3</td>\n",
       "      <td>0</td>\n",
       "      <td>1</td>\n",
       "      <td>!!!!! RT @mleew17: boy dats cold...tyga dwn ba...</td>\n",
       "      <td>85</td>\n",
       "      <td>[RT, boy, dats, coldtyga, dwn, bad, cuffin, da...</td>\n",
       "    </tr>\n",
       "    <tr>\n",
       "      <th>2</th>\n",
       "      <td>3</td>\n",
       "      <td>0</td>\n",
       "      <td>3</td>\n",
       "      <td>0</td>\n",
       "      <td>1</td>\n",
       "      <td>!!!!!!! RT @UrKindOfBrand Dawg!!!! RT @80sbaby...</td>\n",
       "      <td>120</td>\n",
       "      <td>[RT, Dawg, RT, ever, fuck, bitch, start, cry, ...</td>\n",
       "    </tr>\n",
       "    <tr>\n",
       "      <th>3</th>\n",
       "      <td>3</td>\n",
       "      <td>0</td>\n",
       "      <td>2</td>\n",
       "      <td>1</td>\n",
       "      <td>1</td>\n",
       "      <td>!!!!!!!!! RT @C_G_Anderson: @viva_based she lo...</td>\n",
       "      <td>62</td>\n",
       "      <td>[RT, look, like, tranny]</td>\n",
       "    </tr>\n",
       "    <tr>\n",
       "      <th>4</th>\n",
       "      <td>6</td>\n",
       "      <td>0</td>\n",
       "      <td>6</td>\n",
       "      <td>0</td>\n",
       "      <td>1</td>\n",
       "      <td>!!!!!!!!!!!!! RT @ShenikaRoberts: The shit you...</td>\n",
       "      <td>137</td>\n",
       "      <td>[RT, shit, hear, might, true, might, faker, bi...</td>\n",
       "    </tr>\n",
       "  </tbody>\n",
       "</table>\n",
       "</div>"
      ],
      "text/plain": [
       "   count  hate_speech  offensive_language  neither  class  \\\n",
       "0      3            0                   0        3      2   \n",
       "1      3            0                   3        0      1   \n",
       "2      3            0                   3        0      1   \n",
       "3      3            0                   2        1      1   \n",
       "4      6            0                   6        0      1   \n",
       "\n",
       "                                               tweet  tweet_length  \\\n",
       "0  !!! RT @mayasolovely: As a woman you shouldn't...           140   \n",
       "1  !!!!! RT @mleew17: boy dats cold...tyga dwn ba...            85   \n",
       "2  !!!!!!! RT @UrKindOfBrand Dawg!!!! RT @80sbaby...           120   \n",
       "3  !!!!!!!!! RT @C_G_Anderson: @viva_based she lo...            62   \n",
       "4  !!!!!!!!!!!!! RT @ShenikaRoberts: The shit you...           137   \n",
       "\n",
       "                                        tweet_edited  \n",
       "0  [RT, woman, shouldnt, complain, cleaning, hous...  \n",
       "1  [RT, boy, dats, coldtyga, dwn, bad, cuffin, da...  \n",
       "2  [RT, Dawg, RT, ever, fuck, bitch, start, cry, ...  \n",
       "3                           [RT, look, like, tranny]  \n",
       "4  [RT, shit, hear, might, true, might, faker, bi...  "
      ]
     },
     "execution_count": 25,
     "metadata": {},
     "output_type": "execute_result"
    }
   ],
   "source": [
    "df_v2.head()"
   ]
  },
  {
   "cell_type": "code",
   "execution_count": 26,
   "id": "03bc77f7",
   "metadata": {},
   "outputs": [
    {
     "name": "stderr",
     "output_type": "stream",
     "text": [
      "/var/folders/4z/s5yytqj535948_tn28lrcsr40000gn/T/ipykernel_12554/1439524767.py:1: SettingWithCopyWarning: \n",
      "A value is trying to be set on a copy of a slice from a DataFrame.\n",
      "Try using .loc[row_indexer,col_indexer] = value instead\n",
      "\n",
      "See the caveats in the documentation: https://pandas.pydata.org/pandas-docs/stable/user_guide/indexing.html#returning-a-view-versus-a-copy\n",
      "  df_v2['hate_speech_rating'] = df_v2['hate_speech']/df_v2['count']\n",
      "/var/folders/4z/s5yytqj535948_tn28lrcsr40000gn/T/ipykernel_12554/1439524767.py:2: SettingWithCopyWarning: \n",
      "A value is trying to be set on a copy of a slice from a DataFrame.\n",
      "Try using .loc[row_indexer,col_indexer] = value instead\n",
      "\n",
      "See the caveats in the documentation: https://pandas.pydata.org/pandas-docs/stable/user_guide/indexing.html#returning-a-view-versus-a-copy\n",
      "  df_v2['offensive_language_rating'] = df_v2['offensive_language']/df_v2['count']\n",
      "/var/folders/4z/s5yytqj535948_tn28lrcsr40000gn/T/ipykernel_12554/1439524767.py:3: SettingWithCopyWarning: \n",
      "A value is trying to be set on a copy of a slice from a DataFrame.\n",
      "Try using .loc[row_indexer,col_indexer] = value instead\n",
      "\n",
      "See the caveats in the documentation: https://pandas.pydata.org/pandas-docs/stable/user_guide/indexing.html#returning-a-view-versus-a-copy\n",
      "  df_v2['neither_rating'] = df_v2['neither']/df_v2['count']\n"
     ]
    }
   ],
   "source": [
    "df_v2['hate_speech_rating'] = df_v2['hate_speech']/df_v2['count']\n",
    "df_v2['offensive_language_rating'] = df_v2['offensive_language']/df_v2['count']\n",
    "df_v2['neither_rating'] = df_v2['neither']/df_v2['count']"
   ]
  },
  {
   "cell_type": "code",
   "execution_count": 27,
   "id": "b67aa0d5",
   "metadata": {},
   "outputs": [
    {
     "data": {
      "text/html": [
       "<div>\n",
       "<style scoped>\n",
       "    .dataframe tbody tr th:only-of-type {\n",
       "        vertical-align: middle;\n",
       "    }\n",
       "\n",
       "    .dataframe tbody tr th {\n",
       "        vertical-align: top;\n",
       "    }\n",
       "\n",
       "    .dataframe thead th {\n",
       "        text-align: right;\n",
       "    }\n",
       "</style>\n",
       "<table border=\"1\" class=\"dataframe\">\n",
       "  <thead>\n",
       "    <tr style=\"text-align: right;\">\n",
       "      <th></th>\n",
       "      <th>count</th>\n",
       "      <th>hate_speech</th>\n",
       "      <th>offensive_language</th>\n",
       "      <th>neither</th>\n",
       "      <th>class</th>\n",
       "      <th>tweet</th>\n",
       "      <th>tweet_length</th>\n",
       "      <th>tweet_edited</th>\n",
       "      <th>hate_speech_rating</th>\n",
       "      <th>offensive_language_rating</th>\n",
       "      <th>neither_rating</th>\n",
       "    </tr>\n",
       "  </thead>\n",
       "  <tbody>\n",
       "    <tr>\n",
       "      <th>0</th>\n",
       "      <td>3</td>\n",
       "      <td>0</td>\n",
       "      <td>0</td>\n",
       "      <td>3</td>\n",
       "      <td>2</td>\n",
       "      <td>!!! RT @mayasolovely: As a woman you shouldn't...</td>\n",
       "      <td>140</td>\n",
       "      <td>[RT, woman, shouldnt, complain, cleaning, hous...</td>\n",
       "      <td>0.0</td>\n",
       "      <td>0.0</td>\n",
       "      <td>1.0</td>\n",
       "    </tr>\n",
       "    <tr>\n",
       "      <th>1</th>\n",
       "      <td>3</td>\n",
       "      <td>0</td>\n",
       "      <td>3</td>\n",
       "      <td>0</td>\n",
       "      <td>1</td>\n",
       "      <td>!!!!! RT @mleew17: boy dats cold...tyga dwn ba...</td>\n",
       "      <td>85</td>\n",
       "      <td>[RT, boy, dats, coldtyga, dwn, bad, cuffin, da...</td>\n",
       "      <td>0.0</td>\n",
       "      <td>1.0</td>\n",
       "      <td>0.0</td>\n",
       "    </tr>\n",
       "  </tbody>\n",
       "</table>\n",
       "</div>"
      ],
      "text/plain": [
       "   count  hate_speech  offensive_language  neither  class  \\\n",
       "0      3            0                   0        3      2   \n",
       "1      3            0                   3        0      1   \n",
       "\n",
       "                                               tweet  tweet_length  \\\n",
       "0  !!! RT @mayasolovely: As a woman you shouldn't...           140   \n",
       "1  !!!!! RT @mleew17: boy dats cold...tyga dwn ba...            85   \n",
       "\n",
       "                                        tweet_edited  hate_speech_rating  \\\n",
       "0  [RT, woman, shouldnt, complain, cleaning, hous...                 0.0   \n",
       "1  [RT, boy, dats, coldtyga, dwn, bad, cuffin, da...                 0.0   \n",
       "\n",
       "   offensive_language_rating  neither_rating  \n",
       "0                        0.0             1.0  \n",
       "1                        1.0             0.0  "
      ]
     },
     "execution_count": 27,
     "metadata": {},
     "output_type": "execute_result"
    }
   ],
   "source": [
    "df_v2.head(2)"
   ]
  },
  {
   "cell_type": "code",
   "execution_count": 28,
   "id": "e8b9a3da",
   "metadata": {},
   "outputs": [],
   "source": [
    "# Library that tranforms numerals into words\n",
    "from num2words import num2words"
   ]
  },
  {
   "cell_type": "code",
   "execution_count": 29,
   "id": "f8b187df",
   "metadata": {},
   "outputs": [
    {
     "data": {
      "text/plain": [
       "'one point three three'"
      ]
     },
     "execution_count": 29,
     "metadata": {},
     "output_type": "execute_result"
    }
   ],
   "source": [
    "num2words(1.33)"
   ]
  },
  {
   "cell_type": "code",
   "execution_count": 30,
   "id": "911be89b",
   "metadata": {},
   "outputs": [],
   "source": [
    "# Transforming numeric ratings into words"
   ]
  },
  {
   "cell_type": "code",
   "execution_count": 31,
   "id": "fbe50d44",
   "metadata": {},
   "outputs": [
    {
     "name": "stderr",
     "output_type": "stream",
     "text": [
      "/var/folders/4z/s5yytqj535948_tn28lrcsr40000gn/T/ipykernel_12554/2916285753.py:1: SettingWithCopyWarning: \n",
      "A value is trying to be set on a copy of a slice from a DataFrame.\n",
      "Try using .loc[row_indexer,col_indexer] = value instead\n",
      "\n",
      "See the caveats in the documentation: https://pandas.pydata.org/pandas-docs/stable/user_guide/indexing.html#returning-a-view-versus-a-copy\n",
      "  df_v2['hate_speech_rating_words'] = df_v2['hate_speech_rating'].apply(lambda x: num2words(round(x,1)))\n"
     ]
    }
   ],
   "source": [
    "df_v2['hate_speech_rating_words'] = df_v2['hate_speech_rating'].apply(lambda x: num2words(round(x,1)))"
   ]
  },
  {
   "cell_type": "code",
   "execution_count": 32,
   "id": "72412289",
   "metadata": {},
   "outputs": [
    {
     "name": "stderr",
     "output_type": "stream",
     "text": [
      "/var/folders/4z/s5yytqj535948_tn28lrcsr40000gn/T/ipykernel_12554/809957158.py:1: SettingWithCopyWarning: \n",
      "A value is trying to be set on a copy of a slice from a DataFrame.\n",
      "Try using .loc[row_indexer,col_indexer] = value instead\n",
      "\n",
      "See the caveats in the documentation: https://pandas.pydata.org/pandas-docs/stable/user_guide/indexing.html#returning-a-view-versus-a-copy\n",
      "  df_v2['offensive_language_rating_words'] = df_v2['offensive_language_rating'].apply(lambda x: num2words(round(x,1)))\n"
     ]
    }
   ],
   "source": [
    "df_v2['offensive_language_rating_words'] = df_v2['offensive_language_rating'].apply(lambda x: num2words(round(x,1)))"
   ]
  },
  {
   "cell_type": "code",
   "execution_count": 33,
   "id": "7461211c",
   "metadata": {},
   "outputs": [
    {
     "name": "stderr",
     "output_type": "stream",
     "text": [
      "/var/folders/4z/s5yytqj535948_tn28lrcsr40000gn/T/ipykernel_12554/244279.py:1: SettingWithCopyWarning: \n",
      "A value is trying to be set on a copy of a slice from a DataFrame.\n",
      "Try using .loc[row_indexer,col_indexer] = value instead\n",
      "\n",
      "See the caveats in the documentation: https://pandas.pydata.org/pandas-docs/stable/user_guide/indexing.html#returning-a-view-versus-a-copy\n",
      "  df_v2['neither_rating_words'] = df_v2['neither_rating'].apply(lambda x: num2words(round(x,1)))\n"
     ]
    }
   ],
   "source": [
    "df_v2['neither_rating_words'] = df_v2['neither_rating'].apply(lambda x: num2words(round(x,1)))"
   ]
  },
  {
   "cell_type": "code",
   "execution_count": null,
   "id": "4179e852",
   "metadata": {},
   "outputs": [],
   "source": []
  },
  {
   "cell_type": "code",
   "execution_count": 34,
   "id": "793d95c3",
   "metadata": {},
   "outputs": [
    {
     "data": {
      "text/html": [
       "<div>\n",
       "<style scoped>\n",
       "    .dataframe tbody tr th:only-of-type {\n",
       "        vertical-align: middle;\n",
       "    }\n",
       "\n",
       "    .dataframe tbody tr th {\n",
       "        vertical-align: top;\n",
       "    }\n",
       "\n",
       "    .dataframe thead th {\n",
       "        text-align: right;\n",
       "    }\n",
       "</style>\n",
       "<table border=\"1\" class=\"dataframe\">\n",
       "  <thead>\n",
       "    <tr style=\"text-align: right;\">\n",
       "      <th></th>\n",
       "      <th>count</th>\n",
       "      <th>hate_speech</th>\n",
       "      <th>offensive_language</th>\n",
       "      <th>neither</th>\n",
       "      <th>class</th>\n",
       "      <th>tweet</th>\n",
       "      <th>tweet_length</th>\n",
       "      <th>tweet_edited</th>\n",
       "      <th>hate_speech_rating</th>\n",
       "      <th>offensive_language_rating</th>\n",
       "      <th>neither_rating</th>\n",
       "      <th>hate_speech_rating_words</th>\n",
       "      <th>offensive_language_rating_words</th>\n",
       "      <th>neither_rating_words</th>\n",
       "    </tr>\n",
       "  </thead>\n",
       "  <tbody>\n",
       "    <tr>\n",
       "      <th>0</th>\n",
       "      <td>3</td>\n",
       "      <td>0</td>\n",
       "      <td>0</td>\n",
       "      <td>3</td>\n",
       "      <td>2</td>\n",
       "      <td>!!! RT @mayasolovely: As a woman you shouldn't...</td>\n",
       "      <td>140</td>\n",
       "      <td>[RT, woman, shouldnt, complain, cleaning, hous...</td>\n",
       "      <td>0.0</td>\n",
       "      <td>0.0</td>\n",
       "      <td>1.0</td>\n",
       "      <td>zero</td>\n",
       "      <td>zero</td>\n",
       "      <td>one</td>\n",
       "    </tr>\n",
       "    <tr>\n",
       "      <th>1</th>\n",
       "      <td>3</td>\n",
       "      <td>0</td>\n",
       "      <td>3</td>\n",
       "      <td>0</td>\n",
       "      <td>1</td>\n",
       "      <td>!!!!! RT @mleew17: boy dats cold...tyga dwn ba...</td>\n",
       "      <td>85</td>\n",
       "      <td>[RT, boy, dats, coldtyga, dwn, bad, cuffin, da...</td>\n",
       "      <td>0.0</td>\n",
       "      <td>1.0</td>\n",
       "      <td>0.0</td>\n",
       "      <td>zero</td>\n",
       "      <td>one</td>\n",
       "      <td>zero</td>\n",
       "    </tr>\n",
       "  </tbody>\n",
       "</table>\n",
       "</div>"
      ],
      "text/plain": [
       "   count  hate_speech  offensive_language  neither  class  \\\n",
       "0      3            0                   0        3      2   \n",
       "1      3            0                   3        0      1   \n",
       "\n",
       "                                               tweet  tweet_length  \\\n",
       "0  !!! RT @mayasolovely: As a woman you shouldn't...           140   \n",
       "1  !!!!! RT @mleew17: boy dats cold...tyga dwn ba...            85   \n",
       "\n",
       "                                        tweet_edited  hate_speech_rating  \\\n",
       "0  [RT, woman, shouldnt, complain, cleaning, hous...                 0.0   \n",
       "1  [RT, boy, dats, coldtyga, dwn, bad, cuffin, da...                 0.0   \n",
       "\n",
       "   offensive_language_rating  neither_rating hate_speech_rating_words  \\\n",
       "0                        0.0             1.0                     zero   \n",
       "1                        1.0             0.0                     zero   \n",
       "\n",
       "  offensive_language_rating_words neither_rating_words  \n",
       "0                            zero                  one  \n",
       "1                             one                 zero  "
      ]
     },
     "execution_count": 34,
     "metadata": {},
     "output_type": "execute_result"
    }
   ],
   "source": [
    "df_v2.head(2)"
   ]
  },
  {
   "cell_type": "code",
   "execution_count": 35,
   "id": "396973da",
   "metadata": {},
   "outputs": [
    {
     "name": "stderr",
     "output_type": "stream",
     "text": [
      "/var/folders/4z/s5yytqj535948_tn28lrcsr40000gn/T/ipykernel_12554/1275478253.py:2: SettingWithCopyWarning: \n",
      "A value is trying to be set on a copy of a slice from a DataFrame.\n",
      "Try using .loc[row_indexer,col_indexer] = value instead\n",
      "\n",
      "See the caveats in the documentation: https://pandas.pydata.org/pandas-docs/stable/user_guide/indexing.html#returning-a-view-versus-a-copy\n",
      "  df_v2['tweet_edited'] = df_v2['tweet_edited'].apply(lambda x: ' '.join(x))\n"
     ]
    }
   ],
   "source": [
    "# Transforming list of words in tweet_edited column to sentences\n",
    "df_v2['tweet_edited'] = df_v2['tweet_edited'].apply(lambda x: ' '.join(x))"
   ]
  },
  {
   "cell_type": "code",
   "execution_count": 36,
   "id": "25c8486f",
   "metadata": {},
   "outputs": [
    {
     "name": "stderr",
     "output_type": "stream",
     "text": [
      "/var/folders/4z/s5yytqj535948_tn28lrcsr40000gn/T/ipykernel_12554/3400965476.py:2: SettingWithCopyWarning: \n",
      "A value is trying to be set on a copy of a slice from a DataFrame.\n",
      "Try using .loc[row_indexer,col_indexer] = value instead\n",
      "\n",
      "See the caveats in the documentation: https://pandas.pydata.org/pandas-docs/stable/user_guide/indexing.html#returning-a-view-versus-a-copy\n",
      "  df_v2['tweet_edited_with_ratings'] = df_v2['tweet_edited'] + ' ' + df_v2['hate_speech_rating_words'] + ' ' + df_v2['offensive_language_rating_words'] + ' ' + df_v2['neither_rating_words']\n"
     ]
    }
   ],
   "source": [
    "# Combining tweet_edited and rating in words\n",
    "df_v2['tweet_edited_with_ratings'] = df_v2['tweet_edited'] + ' ' + df_v2['hate_speech_rating_words'] + ' ' + df_v2['offensive_language_rating_words'] + ' ' + df_v2['neither_rating_words']"
   ]
  },
  {
   "cell_type": "code",
   "execution_count": 37,
   "id": "9da224ff",
   "metadata": {},
   "outputs": [
    {
     "data": {
      "text/plain": [
       "'hobbies include fighting Mariam bitch zero point three zero point seven zero'"
      ]
     },
     "execution_count": 37,
     "metadata": {},
     "output_type": "execute_result"
    }
   ],
   "source": [
    "# Checking that it worked\n",
    "df_v2['tweet_edited_with_ratings'][9]"
   ]
  },
  {
   "cell_type": "code",
   "execution_count": 38,
   "id": "595ad3c3",
   "metadata": {},
   "outputs": [],
   "source": [
    "from sklearn.model_selection import train_test_split\n",
    "from sklearn.feature_extraction.text import TfidfTransformer\n",
    "from sklearn.pipeline import Pipeline\n",
    "from sklearn.feature_extraction.text import CountVectorizer\n",
    "from sklearn.naive_bayes import MultinomialNB, BernoulliNB\n",
    "from sklearn.ensemble import RandomForestClassifier\n",
    "from sklearn.tree import DecisionTreeClassifier\n",
    "from sklearn.metrics import classification_report, confusion_matrix"
   ]
  },
  {
   "cell_type": "markdown",
   "id": "ccea38cf",
   "metadata": {},
   "source": [
    "## Building models to classify the 3 groups"
   ]
  },
  {
   "cell_type": "code",
   "execution_count": 39,
   "id": "0322dcca",
   "metadata": {},
   "outputs": [],
   "source": [
    "tweet_train,tweet_test,label_train,label_test=train_test_split(df_v2['tweet_edited_with_ratings'],\n",
    "                                                           df_v2['class'],\n",
    "                                                           test_size=0.2,\n",
    "                                                              stratify=df_v2['class'])"
   ]
  },
  {
   "cell_type": "code",
   "execution_count": 40,
   "id": "124b4867",
   "metadata": {},
   "outputs": [
    {
     "data": {
      "text/plain": [
       "16940    RT dick called Batman bitches love Dark Knight...\n",
       "17622    RT Uncle leo find iWatch trash httptcoT7GCSMCY...\n",
       "Name: tweet_edited_with_ratings, dtype: object"
      ]
     },
     "execution_count": 40,
     "metadata": {},
     "output_type": "execute_result"
    }
   ],
   "source": [
    "tweet_train.head(2)"
   ]
  },
  {
   "cell_type": "markdown",
   "id": "9a3c1ac1",
   "metadata": {},
   "source": [
    "### Naive Bayes Classifier"
   ]
  },
  {
   "cell_type": "code",
   "execution_count": 41,
   "id": "f0bbb1ef",
   "metadata": {},
   "outputs": [
    {
     "name": "stdout",
     "output_type": "stream",
     "text": [
      "[[   0  286    0]\n",
      " [   0 3832    3]\n",
      " [   0  744   88]]\n",
      "\n",
      "\n",
      "              precision    recall  f1-score   support\n",
      "\n",
      "           0       0.00      0.00      0.00       286\n",
      "           1       0.79      1.00      0.88      3835\n",
      "           2       0.97      0.11      0.19       832\n",
      "\n",
      "    accuracy                           0.79      4953\n",
      "   macro avg       0.59      0.37      0.36      4953\n",
      "weighted avg       0.77      0.79      0.71      4953\n",
      "\n"
     ]
    },
    {
     "name": "stderr",
     "output_type": "stream",
     "text": [
      "/Users/andrew/anaconda3/envs/tensorflow/lib/python3.10/site-packages/sklearn/metrics/_classification.py:1469: UndefinedMetricWarning: Precision and F-score are ill-defined and being set to 0.0 in labels with no predicted samples. Use `zero_division` parameter to control this behavior.\n",
      "  _warn_prf(average, modifier, msg_start, len(result))\n",
      "/Users/andrew/anaconda3/envs/tensorflow/lib/python3.10/site-packages/sklearn/metrics/_classification.py:1469: UndefinedMetricWarning: Precision and F-score are ill-defined and being set to 0.0 in labels with no predicted samples. Use `zero_division` parameter to control this behavior.\n",
      "  _warn_prf(average, modifier, msg_start, len(result))\n",
      "/Users/andrew/anaconda3/envs/tensorflow/lib/python3.10/site-packages/sklearn/metrics/_classification.py:1469: UndefinedMetricWarning: Precision and F-score are ill-defined and being set to 0.0 in labels with no predicted samples. Use `zero_division` parameter to control this behavior.\n",
      "  _warn_prf(average, modifier, msg_start, len(result))\n"
     ]
    }
   ],
   "source": [
    "pipeline = Pipeline([\n",
    "    ('bow', CountVectorizer()),\n",
    "    ('tfidf',TfidfTransformer()),\n",
    "    ('classifier', MultinomialNB())\n",
    "])\n",
    "\n",
    "pipeline.fit(tweet_train,label_train)\n",
    "\n",
    "predictions = pipeline.predict(tweet_test)\n",
    "\n",
    "\n",
    "print(confusion_matrix(label_test, predictions))\n",
    "print('\\n')\n",
    "print(classification_report(label_test, predictions)) "
   ]
  },
  {
   "cell_type": "markdown",
   "id": "3614ecf7",
   "metadata": {},
   "source": [
    "### Decision Tree Classifier"
   ]
  },
  {
   "cell_type": "code",
   "execution_count": 42,
   "id": "b79f2892",
   "metadata": {},
   "outputs": [
    {
     "name": "stdout",
     "output_type": "stream",
     "text": [
      "[[  77  178   31]\n",
      " [ 104 3557  174]\n",
      " [  28  142  662]]\n",
      "\n",
      "\n",
      "              precision    recall  f1-score   support\n",
      "\n",
      "           0       0.37      0.27      0.31       286\n",
      "           1       0.92      0.93      0.92      3835\n",
      "           2       0.76      0.80      0.78       832\n",
      "\n",
      "    accuracy                           0.87      4953\n",
      "   macro avg       0.68      0.66      0.67      4953\n",
      "weighted avg       0.86      0.87      0.86      4953\n",
      "\n"
     ]
    }
   ],
   "source": [
    "pipeline = Pipeline([\n",
    "    ('bow', CountVectorizer()),\n",
    "    ('tfidf',TfidfTransformer()),\n",
    "    ('classifier', DecisionTreeClassifier())\n",
    "])\n",
    "\n",
    "pipeline.fit(tweet_train,label_train)\n",
    "\n",
    "predictions = pipeline.predict(tweet_test)\n",
    "\n",
    "\n",
    "print(confusion_matrix(label_test, predictions))\n",
    "print('\\n')\n",
    "print(classification_report(label_test, predictions))      "
   ]
  },
  {
   "cell_type": "markdown",
   "id": "05c0d72e",
   "metadata": {},
   "source": [
    "### Random Forest Classifier"
   ]
  },
  {
   "cell_type": "code",
   "execution_count": 43,
   "id": "6cff37e3",
   "metadata": {},
   "outputs": [
    {
     "name": "stdout",
     "output_type": "stream",
     "text": [
      "[[  30  245   11]\n",
      " [  10 3760   65]\n",
      " [   1  295  536]]\n",
      "\n",
      "\n",
      "              precision    recall  f1-score   support\n",
      "\n",
      "           0       0.73      0.10      0.18       286\n",
      "           1       0.87      0.98      0.92      3835\n",
      "           2       0.88      0.64      0.74       832\n",
      "\n",
      "    accuracy                           0.87      4953\n",
      "   macro avg       0.83      0.58      0.62      4953\n",
      "weighted avg       0.87      0.87      0.85      4953\n",
      "\n"
     ]
    }
   ],
   "source": [
    "pipeline = Pipeline([\n",
    "    ('bow', CountVectorizer()),\n",
    "    ('tfidf',TfidfTransformer()),\n",
    "    ('classifier', RandomForestClassifier())\n",
    "])\n",
    "pipeline.fit(tweet_train,label_train)\n",
    "\n",
    "predictions = pipeline.predict(tweet_test)\n",
    "\n",
    "print(confusion_matrix(label_test, predictions))\n",
    "print('\\n')\n",
    "print(classification_report(label_test, predictions))      "
   ]
  },
  {
   "cell_type": "markdown",
   "id": "e163d350",
   "metadata": {},
   "source": [
    "### K Nearest neighbors"
   ]
  },
  {
   "cell_type": "code",
   "execution_count": 44,
   "id": "29f0b504",
   "metadata": {},
   "outputs": [],
   "source": [
    "from sklearn.neighbors import KNeighborsClassifier"
   ]
  },
  {
   "cell_type": "code",
   "execution_count": 45,
   "id": "e2576aa9",
   "metadata": {},
   "outputs": [
    {
     "name": "stdout",
     "output_type": "stream",
     "text": [
      "[[  73  198   15]\n",
      " [  66 3708   61]\n",
      " [  14  566  252]]\n",
      "\n",
      "\n",
      "              precision    recall  f1-score   support\n",
      "\n",
      "           0       0.48      0.26      0.33       286\n",
      "           1       0.83      0.97      0.89      3835\n",
      "           2       0.77      0.30      0.43       832\n",
      "\n",
      "    accuracy                           0.81      4953\n",
      "   macro avg       0.69      0.51      0.55      4953\n",
      "weighted avg       0.80      0.81      0.78      4953\n",
      "\n"
     ]
    }
   ],
   "source": [
    "pipeline = Pipeline([\n",
    "    ('bow', CountVectorizer()),\n",
    "    ('tfidf',TfidfTransformer()),\n",
    "    ('classifier', KNeighborsClassifier(n_neighbors=7))\n",
    "])\n",
    "\n",
    "pipeline.fit(tweet_train,label_train)\n",
    "\n",
    "predictions = pipeline.predict(tweet_test)\n",
    "\n",
    "\n",
    "print(confusion_matrix(label_test, predictions))\n",
    "print('\\n')\n",
    "print(classification_report(label_test, predictions)) "
   ]
  },
  {
   "cell_type": "markdown",
   "id": "8b13c84f",
   "metadata": {},
   "source": [
    "[[  47  234    5]\n",
    " [  45 3754   36]\n",
    " [   4  574  254]]\n",
    "\n",
    "\n",
    "              precision    recall  f1-score   support\n",
    "\n",
    "           0       0.49      0.16      0.25       286\n",
    "           1       0.82      0.98      0.89      3835\n",
    "           2       0.86      0.31      0.45       832\n",
    "\n",
    "    accuracy                           0.82      4953\n",
    "   macro avg       0.72      0.48      0.53      4953\n",
    "weighted avg       0.81      0.82      0.78      4953\n"
   ]
  },
  {
   "cell_type": "markdown",
   "id": "8547f85c",
   "metadata": {},
   "source": [
    "[[  52  359   18]\n",
    " [  50 5644   58]\n",
    " [   2  891  356]]\n",
    "\n",
    "\n",
    "              precision    recall  f1-score   support\n",
    "\n",
    "           0       0.50      0.12      0.20       429\n",
    "           1       0.82      0.98      0.89      5752\n",
    "           2       0.82      0.29      0.42      1249\n",
    "\n",
    "    accuracy                           0.81      7430\n",
    "   macro avg       0.71      0.46      0.50      7430\n",
    "weighted avg       0.80      0.81      0.77      7430\n"
   ]
  },
  {
   "cell_type": "markdown",
   "id": "c38502c3",
   "metadata": {},
   "source": [
    "### Support Vector Machine Algorithm"
   ]
  },
  {
   "cell_type": "code",
   "execution_count": 46,
   "id": "bb3df031",
   "metadata": {},
   "outputs": [],
   "source": [
    "from sklearn.svm import SVC"
   ]
  },
  {
   "cell_type": "code",
   "execution_count": 47,
   "id": "ed91ab55",
   "metadata": {},
   "outputs": [
    {
     "name": "stdout",
     "output_type": "stream",
     "text": [
      "[[  39  232   15]\n",
      " [  15 3720  100]\n",
      " [   1  166  665]]\n",
      "\n",
      "\n",
      "              precision    recall  f1-score   support\n",
      "\n",
      "           0       0.71      0.14      0.23       286\n",
      "           1       0.90      0.97      0.94      3835\n",
      "           2       0.85      0.80      0.83       832\n",
      "\n",
      "    accuracy                           0.89      4953\n",
      "   macro avg       0.82      0.64      0.66      4953\n",
      "weighted avg       0.88      0.89      0.88      4953\n",
      "\n"
     ]
    }
   ],
   "source": [
    "pipeline = Pipeline([\n",
    "    ('bow', CountVectorizer()),\n",
    "    ('tfidf',TfidfTransformer()),\n",
    "    ('classifier', SVC())\n",
    "])\n",
    "\n",
    "pipeline.fit(tweet_train,label_train)\n",
    "\n",
    "predictions = pipeline.predict(tweet_test)\n",
    "\n",
    "\n",
    "print(confusion_matrix(label_test, predictions))\n",
    "print('\\n')\n",
    "print(classification_report(label_test, predictions))   "
   ]
  },
  {
   "cell_type": "markdown",
   "id": "d8a7db27",
   "metadata": {},
   "source": [
    "### K Nearest Neighbors Classifier"
   ]
  },
  {
   "cell_type": "code",
   "execution_count": 48,
   "id": "0b2a7fcb",
   "metadata": {},
   "outputs": [],
   "source": [
    "# Bag words used in all tweets are created\n",
    "# CountVectorizer class is used to transform the words into numeric values\n",
    "bow_transformer = CountVectorizer().fit(df_v2['tweet_edited_with_ratings'])"
   ]
  },
  {
   "cell_type": "code",
   "execution_count": 49,
   "id": "564fa4a9",
   "metadata": {},
   "outputs": [],
   "source": [
    "tweets_bow = bow_transformer.transform(df_v2['tweet_edited_with_ratings'])"
   ]
  },
  {
   "cell_type": "code",
   "execution_count": 50,
   "id": "77b570ff",
   "metadata": {},
   "outputs": [
    {
     "name": "stdout",
     "output_type": "stream",
     "text": [
      "30078\n"
     ]
    }
   ],
   "source": [
    "# Showing total number of words used \n",
    "print(len(bow_transformer.vocabulary_))"
   ]
  },
  {
   "cell_type": "code",
   "execution_count": 51,
   "id": "e33bfec9",
   "metadata": {},
   "outputs": [],
   "source": [
    "# The code below can be used to show the words used and the numeric value assigned to them\n",
    "# Output is a dictionary\n",
    "# print(bow_transformer.vocabulary_)"
   ]
  },
  {
   "cell_type": "code",
   "execution_count": 52,
   "id": "ab433e07",
   "metadata": {},
   "outputs": [],
   "source": [
    "from sklearn.feature_extraction.text import TfidfTransformer"
   ]
  },
  {
   "cell_type": "code",
   "execution_count": 53,
   "id": "2635b983",
   "metadata": {},
   "outputs": [],
   "source": [
    "# Tfidf counts the number of times a word appears and attaches a weight to it\n",
    "# The result is a sparse matrix\n",
    "tfidf_transformer = TfidfTransformer().fit(tweets_bow)"
   ]
  },
  {
   "cell_type": "code",
   "execution_count": 54,
   "id": "a13c088c",
   "metadata": {},
   "outputs": [
    {
     "name": "stdout",
     "output_type": "stream",
     "text": [
      "TMadisonx shit blows meclaim faithful somebody still fucking hoes 128514128514128514 zero point three zero point seven zero\n",
      "  (0, 688)\t1\n",
      "  (0, 5767)\t1\n",
      "  (0, 10346)\t1\n",
      "  (0, 11265)\t1\n",
      "  (0, 12990)\t1\n",
      "  (0, 19312)\t1\n",
      "  (0, 22086)\t2\n",
      "  (0, 24539)\t1\n",
      "  (0, 24737)\t1\n",
      "  (0, 25482)\t1\n",
      "  (0, 26034)\t1\n",
      "  (0, 27152)\t1\n",
      "  (0, 27343)\t1\n",
      "  (0, 30022)\t3\n",
      "(1, 30078)\n",
      "  (0, 30022)\t0.126636027739057\n",
      "  (0, 27343)\t0.44001965025822815\n",
      "  (0, 27152)\t0.09740307602345726\n",
      "  (0, 26034)\t0.21001104569701223\n",
      "  (0, 25482)\t0.29179026172530675\n",
      "  (0, 24737)\t0.17059467626143018\n",
      "  (0, 24539)\t0.09759886784401024\n",
      "  (0, 22086)\t0.18699947100737846\n",
      "  (0, 19312)\t0.44001965025822815\n",
      "  (0, 12990)\t0.14455996434065582\n",
      "  (0, 11265)\t0.19883150824088\n",
      "  (0, 10346)\t0.34076337616119934\n",
      "  (0, 5767)\t0.3815013798684692\n",
      "  (0, 688)\t0.24960720706014256\n"
     ]
    }
   ],
   "source": [
    "# Transforming one row before transforming the entire column to confirm the result\n",
    "tweet5 = df_v2['tweet_edited_with_ratings'][5]\n",
    "print(tweet5)\n",
    "\n",
    "bow5 = bow_transformer.transform([tweet5])\n",
    "print(bow5)\n",
    "print(bow5.shape)\n",
    "\n",
    "tfidf5 = tfidf_transformer.transform(bow5)\n",
    "print(tfidf5)"
   ]
  },
  {
   "cell_type": "code",
   "execution_count": 55,
   "id": "5d9081d4",
   "metadata": {},
   "outputs": [
    {
     "name": "stdout",
     "output_type": "stream",
     "text": [
      "(24764, 30078)\n"
     ]
    },
    {
     "data": {
      "text/plain": [
       "scipy.sparse._csr.csr_matrix"
      ]
     },
     "execution_count": 55,
     "metadata": {},
     "output_type": "execute_result"
    }
   ],
   "source": [
    "# Tranforming the entire column and displaying the shape and data type\n",
    "tweets_tfidf = tfidf_transformer.transform(tweets_bow)\n",
    "print(tweets_tfidf.shape)\n",
    "type(tweets_tfidf)"
   ]
  },
  {
   "cell_type": "code",
   "execution_count": 56,
   "id": "31ac73a6",
   "metadata": {},
   "outputs": [],
   "source": [
    "tweet_train,tweet_test,label_train,label_test=train_test_split(tweets_tfidf,df_v2['class'],test_size=0.3,stratify=df_v2['class'])"
   ]
  },
  {
   "cell_type": "code",
   "execution_count": 57,
   "id": "8a62041f",
   "metadata": {},
   "outputs": [],
   "source": [
    "from sklearn.neighbors import KNeighborsClassifier\n",
    "import numpy as np"
   ]
  },
  {
   "cell_type": "code",
   "execution_count": 58,
   "id": "eb87048c",
   "metadata": {},
   "outputs": [],
   "source": [
    "# Using elbow method to find the right k value\n",
    "\n",
    "error_rate = []\n",
    "\n",
    "for i in range(1,40):\n",
    "    \n",
    "    knn = KNeighborsClassifier(n_neighbors=i)\n",
    "    knn.fit(tweet_train,label_train)\n",
    "    pred_i = knn.predict(tweet_test)\n",
    "    error_rate.append(np.mean(pred_i != label_test))"
   ]
  },
  {
   "cell_type": "code",
   "execution_count": 59,
   "id": "ef54af7c",
   "metadata": {},
   "outputs": [
    {
     "data": {
      "image/png": "[encoded data removed]",
      "text/plain": [
       "<Figure size 1000x600 with 1 Axes>"
      ]
     },
     "metadata": {},
     "output_type": "display_data"
    }
   ],
   "source": [
    "plt.figure(figsize=(10,6))\n",
    "plt.plot(range(1,40),error_rate,color='blue', linestyle='dashed', marker='o',\n",
    "         markerfacecolor='red', markersize=10)\n",
    "plt.title('Error Rate vs. K Value')\n",
    "plt.xlabel('K')\n",
    "plt.ylabel('Error Rate')\n",
    "plt.show()"
   ]
  },
  {
   "cell_type": "code",
   "execution_count": 87,
   "id": "94958ff5",
   "metadata": {},
   "outputs": [
    {
     "name": "stdout",
     "output_type": "stream",
     "text": [
      "WITH K=7\n",
      "\n",
      "\n",
      "[[5483  269]\n",
      " [1070  608]]\n",
      "\n",
      "\n",
      "              precision    recall  f1-score   support\n",
      "\n",
      "           0       0.84      0.95      0.89      5752\n",
      "           1       0.69      0.36      0.48      1678\n",
      "\n",
      "    accuracy                           0.82      7430\n",
      "   macro avg       0.76      0.66      0.68      7430\n",
      "weighted avg       0.80      0.82      0.80      7430\n",
      "\n"
     ]
    }
   ],
   "source": [
    "# NOW WITH K=7\n",
    "knn = KNeighborsClassifier(n_neighbors=7)\n",
    "\n",
    "knn.fit(tweet_train,label_train)\n",
    "pred = knn.predict(tweet_test)\n",
    "\n",
    "print('WITH K=7')\n",
    "print('\\n')\n",
    "print(confusion_matrix(label_test,pred))\n",
    "print('\\n')\n",
    "print(classification_report(label_test,pred))"
   ]
  },
  {
   "cell_type": "code",
   "execution_count": null,
   "id": "1af22a4b",
   "metadata": {},
   "outputs": [],
   "source": []
  },
  {
   "cell_type": "markdown",
   "id": "58df378d",
   "metadata": {},
   "source": [
    "## Two model approach"
   ]
  },
  {
   "cell_type": "markdown",
   "id": "b577d6a7",
   "metadata": {},
   "source": [
    "Two models are built:\n",
    "\n",
    "Model 1 - To classify 'okay language' and 'bad language'\n",
    "\n",
    "Model 2 - To classify 'bad language' into 2 groups; offensive language and hate speech"
   ]
  },
  {
   "cell_type": "code",
   "execution_count": 62,
   "id": "b90541ac",
   "metadata": {},
   "outputs": [],
   "source": [
    "df_v3 = df_v2.copy()"
   ]
  },
  {
   "cell_type": "code",
   "execution_count": 63,
   "id": "c0a7a8e5",
   "metadata": {},
   "outputs": [
    {
     "data": {
      "text/html": [
       "<div>\n",
       "<style scoped>\n",
       "    .dataframe tbody tr th:only-of-type {\n",
       "        vertical-align: middle;\n",
       "    }\n",
       "\n",
       "    .dataframe tbody tr th {\n",
       "        vertical-align: top;\n",
       "    }\n",
       "\n",
       "    .dataframe thead th {\n",
       "        text-align: right;\n",
       "    }\n",
       "</style>\n",
       "<table border=\"1\" class=\"dataframe\">\n",
       "  <thead>\n",
       "    <tr style=\"text-align: right;\">\n",
       "      <th></th>\n",
       "      <th>count</th>\n",
       "      <th>hate_speech</th>\n",
       "      <th>offensive_language</th>\n",
       "      <th>neither</th>\n",
       "      <th>class</th>\n",
       "      <th>tweet</th>\n",
       "      <th>tweet_length</th>\n",
       "      <th>tweet_edited</th>\n",
       "      <th>hate_speech_rating</th>\n",
       "      <th>offensive_language_rating</th>\n",
       "      <th>neither_rating</th>\n",
       "      <th>hate_speech_rating_words</th>\n",
       "      <th>offensive_language_rating_words</th>\n",
       "      <th>neither_rating_words</th>\n",
       "      <th>tweet_edited_with_ratings</th>\n",
       "    </tr>\n",
       "  </thead>\n",
       "  <tbody>\n",
       "    <tr>\n",
       "      <th>0</th>\n",
       "      <td>3</td>\n",
       "      <td>0</td>\n",
       "      <td>0</td>\n",
       "      <td>3</td>\n",
       "      <td>2</td>\n",
       "      <td>!!! RT @mayasolovely: As a woman you shouldn't...</td>\n",
       "      <td>140</td>\n",
       "      <td>RT woman shouldnt complain cleaning house amp ...</td>\n",
       "      <td>0.0</td>\n",
       "      <td>0.0</td>\n",
       "      <td>1.0</td>\n",
       "      <td>zero</td>\n",
       "      <td>zero</td>\n",
       "      <td>one</td>\n",
       "      <td>RT woman shouldnt complain cleaning house amp ...</td>\n",
       "    </tr>\n",
       "    <tr>\n",
       "      <th>1</th>\n",
       "      <td>3</td>\n",
       "      <td>0</td>\n",
       "      <td>3</td>\n",
       "      <td>0</td>\n",
       "      <td>1</td>\n",
       "      <td>!!!!! RT @mleew17: boy dats cold...tyga dwn ba...</td>\n",
       "      <td>85</td>\n",
       "      <td>RT boy dats coldtyga dwn bad cuffin dat hoe 1s...</td>\n",
       "      <td>0.0</td>\n",
       "      <td>1.0</td>\n",
       "      <td>0.0</td>\n",
       "      <td>zero</td>\n",
       "      <td>one</td>\n",
       "      <td>zero</td>\n",
       "      <td>RT boy dats coldtyga dwn bad cuffin dat hoe 1s...</td>\n",
       "    </tr>\n",
       "  </tbody>\n",
       "</table>\n",
       "</div>"
      ],
      "text/plain": [
       "   count  hate_speech  offensive_language  neither  class  \\\n",
       "0      3            0                   0        3      2   \n",
       "1      3            0                   3        0      1   \n",
       "\n",
       "                                               tweet  tweet_length  \\\n",
       "0  !!! RT @mayasolovely: As a woman you shouldn't...           140   \n",
       "1  !!!!! RT @mleew17: boy dats cold...tyga dwn ba...            85   \n",
       "\n",
       "                                        tweet_edited  hate_speech_rating  \\\n",
       "0  RT woman shouldnt complain cleaning house amp ...                 0.0   \n",
       "1  RT boy dats coldtyga dwn bad cuffin dat hoe 1s...                 0.0   \n",
       "\n",
       "   offensive_language_rating  neither_rating hate_speech_rating_words  \\\n",
       "0                        0.0             1.0                     zero   \n",
       "1                        1.0             0.0                     zero   \n",
       "\n",
       "  offensive_language_rating_words neither_rating_words  \\\n",
       "0                            zero                  one   \n",
       "1                             one                 zero   \n",
       "\n",
       "                           tweet_edited_with_ratings  \n",
       "0  RT woman shouldnt complain cleaning house amp ...  \n",
       "1  RT boy dats coldtyga dwn bad cuffin dat hoe 1s...  "
      ]
     },
     "execution_count": 63,
     "metadata": {},
     "output_type": "execute_result"
    }
   ],
   "source": [
    "df_v3.head(2)"
   ]
  },
  {
   "cell_type": "markdown",
   "id": "1cbf8e8f",
   "metadata": {},
   "source": [
    "### Model One"
   ]
  },
  {
   "cell_type": "markdown",
   "id": "e0f7ef52",
   "metadata": {},
   "source": [
    "### New classes created: \n",
    "#### 0 - neither (okay language)\n",
    "#### 1 - offensive language and hate speech (bad language)"
   ]
  },
  {
   "cell_type": "code",
   "execution_count": 64,
   "id": "a75b3919",
   "metadata": {},
   "outputs": [],
   "source": [
    "df_v3['class_new'] = df_v3['class'].apply(lambda x: 0 if x == 1 else 1)"
   ]
  },
  {
   "cell_type": "code",
   "execution_count": 65,
   "id": "6ba4c434",
   "metadata": {},
   "outputs": [
    {
     "data": {
      "text/plain": [
       "array([1, 0])"
      ]
     },
     "execution_count": 65,
     "metadata": {},
     "output_type": "execute_result"
    }
   ],
   "source": [
    "df_v3['class_new'].unique()"
   ]
  },
  {
   "cell_type": "code",
   "execution_count": 66,
   "id": "009f0553",
   "metadata": {},
   "outputs": [
    {
     "data": {
      "image/png": "[encoded data removed]",
      "text/plain": [
       "<Figure size 640x480 with 1 Axes>"
      ]
     },
     "metadata": {},
     "output_type": "display_data"
    }
   ],
   "source": [
    "df_v3['class'].value_counts().plot(kind='bar')\n",
    "plt.title('Original class imbalance')\n",
    "plt.show()"
   ]
  },
  {
   "cell_type": "code",
   "execution_count": 67,
   "id": "3550900c",
   "metadata": {},
   "outputs": [
    {
     "data": {
      "image/png": "[encoded data removed]",
      "text/plain": [
       "<Figure size 640x480 with 1 Axes>"
      ]
     },
     "metadata": {},
     "output_type": "display_data"
    }
   ],
   "source": [
    "df_v3['class_new'].value_counts().plot(kind='bar')\n",
    "plt.title('New class imbalance')\n",
    "plt.show()"
   ]
  },
  {
   "cell_type": "code",
   "execution_count": 68,
   "id": "6f9eb099",
   "metadata": {},
   "outputs": [
    {
     "data": {
      "text/plain": [
       "[0.77, 0.23]"
      ]
     },
     "execution_count": 68,
     "metadata": {},
     "output_type": "execute_result"
    }
   ],
   "source": [
    "# New class imbalance\n",
    "class_1 = round(df_v3['class_new'].value_counts()[1] / len(df_v3),2)\n",
    "[1-class_1, class_1]"
   ]
  },
  {
   "cell_type": "markdown",
   "id": "03c57815",
   "metadata": {},
   "source": [
    "### Naive Bayes Classifier"
   ]
  },
  {
   "cell_type": "code",
   "execution_count": 69,
   "id": "569b9e37",
   "metadata": {},
   "outputs": [],
   "source": [
    "tweet__train,tweet__test,label__train,label__test=train_test_split(df_v3['tweet_edited_with_ratings'],\n",
    "                                                           df_v3['class_new'],\n",
    "                                                           test_size=0.2,\n",
    "                                                              stratify=df_v3['class_new'])"
   ]
  },
  {
   "cell_type": "code",
   "execution_count": 70,
   "id": "cfeb0880",
   "metadata": {},
   "outputs": [
    {
     "name": "stdout",
     "output_type": "stream",
     "text": [
      "[[3756   79]\n",
      " [ 708  410]]\n",
      "\n",
      "\n",
      "              precision    recall  f1-score   support\n",
      "\n",
      "           0       0.84      0.98      0.91      3835\n",
      "           1       0.84      0.37      0.51      1118\n",
      "\n",
      "    accuracy                           0.84      4953\n",
      "   macro avg       0.84      0.67      0.71      4953\n",
      "weighted avg       0.84      0.84      0.82      4953\n",
      "\n"
     ]
    }
   ],
   "source": [
    "pipeline = Pipeline([\n",
    "    ('bow', CountVectorizer()),\n",
    "    ('tfidf',TfidfTransformer()),\n",
    "    ('classifier', BernoulliNB())\n",
    "])\n",
    "\n",
    "pipeline.fit(tweet__train,label__train)\n",
    "\n",
    "predictions = pipeline.predict(tweet__test)\n",
    "\n",
    "\n",
    "print(confusion_matrix(label__test, predictions))\n",
    "print('\\n')\n",
    "print(classification_report(label__test, predictions)) "
   ]
  },
  {
   "cell_type": "markdown",
   "id": "6bbab819",
   "metadata": {},
   "source": [
    "### DecisionTree classifier"
   ]
  },
  {
   "cell_type": "code",
   "execution_count": 71,
   "id": "907c3952",
   "metadata": {},
   "outputs": [
    {
     "name": "stdout",
     "output_type": "stream",
     "text": [
      "[[3555  280]\n",
      " [ 288  830]]\n",
      "\n",
      "\n",
      "              precision    recall  f1-score   support\n",
      "\n",
      "           0       0.93      0.93      0.93      3835\n",
      "           1       0.75      0.74      0.75      1118\n",
      "\n",
      "    accuracy                           0.89      4953\n",
      "   macro avg       0.84      0.83      0.84      4953\n",
      "weighted avg       0.89      0.89      0.89      4953\n",
      "\n"
     ]
    }
   ],
   "source": [
    "pipeline = Pipeline([\n",
    "    ('bow', CountVectorizer()),\n",
    "    ('tfidf',TfidfTransformer()),\n",
    "    ('classifier', DecisionTreeClassifier())\n",
    "])\n",
    "\n",
    "pipeline.fit(tweet__train,label__train)\n",
    "\n",
    "predictions = pipeline.predict(tweet__test)\n",
    "\n",
    "\n",
    "print(confusion_matrix(label__test, predictions))\n",
    "print('\\n')\n",
    "print(classification_report(label__test, predictions))      "
   ]
  },
  {
   "cell_type": "markdown",
   "id": "0989f960",
   "metadata": {},
   "source": [
    "### Random Forest Classifier"
   ]
  },
  {
   "cell_type": "code",
   "execution_count": 72,
   "id": "a7d3a0d3",
   "metadata": {},
   "outputs": [
    {
     "name": "stdout",
     "output_type": "stream",
     "text": [
      "[[3729  106]\n",
      " [ 478  640]]\n",
      "\n",
      "\n",
      "              precision    recall  f1-score   support\n",
      "\n",
      "           0       0.89      0.97      0.93      3835\n",
      "           1       0.86      0.57      0.69      1118\n",
      "\n",
      "    accuracy                           0.88      4953\n",
      "   macro avg       0.87      0.77      0.81      4953\n",
      "weighted avg       0.88      0.88      0.87      4953\n",
      "\n"
     ]
    }
   ],
   "source": [
    "pipeline = Pipeline([\n",
    "    ('bow', CountVectorizer()),\n",
    "    ('tfidf',TfidfTransformer()),\n",
    "    ('classifier', RandomForestClassifier())\n",
    "])\n",
    "pipeline.fit(tweet__train,label__train)\n",
    "\n",
    "predictions = pipeline.predict(tweet__test)\n",
    "\n",
    "print(confusion_matrix(label__test, predictions))\n",
    "print('\\n')\n",
    "print(classification_report(label__test, predictions))      "
   ]
  },
  {
   "cell_type": "markdown",
   "id": "b3a6235d",
   "metadata": {},
   "source": [
    "### Support Vector Machines Classifier"
   ]
  },
  {
   "cell_type": "code",
   "execution_count": 73,
   "id": "0ba3110d",
   "metadata": {},
   "outputs": [
    {
     "name": "stdout",
     "output_type": "stream",
     "text": [
      "[[3635  200]\n",
      " [ 287  831]]\n",
      "\n",
      "\n",
      "              precision    recall  f1-score   support\n",
      "\n",
      "           0       0.93      0.95      0.94      3835\n",
      "           1       0.81      0.74      0.77      1118\n",
      "\n",
      "    accuracy                           0.90      4953\n",
      "   macro avg       0.87      0.85      0.86      4953\n",
      "weighted avg       0.90      0.90      0.90      4953\n",
      "\n"
     ]
    }
   ],
   "source": [
    "pipeline = Pipeline([\n",
    "    ('bow', CountVectorizer()),\n",
    "    ('tfidf',TfidfTransformer()),\n",
    "    ('classifier', SVC())\n",
    "])\n",
    "\n",
    "pipeline.fit(tweet__train,label__train)\n",
    "\n",
    "predictions = pipeline.predict(tweet__test)\n",
    "\n",
    "\n",
    "print(confusion_matrix(label__test, predictions))\n",
    "print('\\n')\n",
    "print(classification_report(label__test, predictions))   "
   ]
  },
  {
   "cell_type": "markdown",
   "id": "c796aa2b",
   "metadata": {},
   "source": [
    "### K Nearest Neighbors"
   ]
  },
  {
   "cell_type": "code",
   "execution_count": 74,
   "id": "8e3a9a43",
   "metadata": {},
   "outputs": [
    {
     "data": {
      "image/png": "[encoded data removed]",
      "text/plain": [
       "<Figure size 1000x600 with 1 Axes>"
      ]
     },
     "metadata": {},
     "output_type": "display_data"
    }
   ],
   "source": [
    "tweet_train,tweet_test,label_train,label_test=train_test_split(tweets_tfidf,df_v3['class_new'],test_size=0.3,stratify=df_v3['class_new'])\n",
    "\n",
    "error_rate = []\n",
    "\n",
    "# Will take some time\n",
    "for i in range(1,40):\n",
    "    \n",
    "    knn = KNeighborsClassifier(n_neighbors=i)\n",
    "    knn.fit(tweet_train,label_train)\n",
    "    pred_i = knn.predict(tweet_test)\n",
    "    error_rate.append(np.mean(pred_i != label_test))\n",
    "    \n",
    "plt.figure(figsize=(10,6))\n",
    "plt.plot(range(1,40),error_rate,color='blue', linestyle='dashed', marker='o',\n",
    "         markerfacecolor='red', markersize=10)\n",
    "plt.title('Error Rate vs. K Value')\n",
    "plt.xlabel('K')\n",
    "plt.ylabel('Error Rate')\n",
    "plt.show()"
   ]
  },
  {
   "cell_type": "code",
   "execution_count": 75,
   "id": "7a54ee03",
   "metadata": {},
   "outputs": [
    {
     "name": "stdout",
     "output_type": "stream",
     "text": [
      "WITH K=5\n",
      "\n",
      "\n",
      "[[5446  306]\n",
      " [1054  624]]\n",
      "\n",
      "\n",
      "              precision    recall  f1-score   support\n",
      "\n",
      "           0       0.84      0.95      0.89      5752\n",
      "           1       0.67      0.37      0.48      1678\n",
      "\n",
      "    accuracy                           0.82      7430\n",
      "   macro avg       0.75      0.66      0.68      7430\n",
      "weighted avg       0.80      0.82      0.80      7430\n",
      "\n"
     ]
    }
   ],
   "source": [
    "# NOW WITH K=5\n",
    "knn = KNeighborsClassifier(n_neighbors=5)\n",
    "\n",
    "knn.fit(tweet_train,label_train)\n",
    "pred = knn.predict(tweet_test)\n",
    "\n",
    "print('WITH K=5')\n",
    "print('\\n')\n",
    "print(confusion_matrix(label_test,pred))\n",
    "print('\\n')\n",
    "print(classification_report(label_test,pred))"
   ]
  },
  {
   "cell_type": "markdown",
   "id": "b1f523df",
   "metadata": {},
   "source": [
    "## Model Two\n",
    "\n",
    "### Classes are:\n",
    "### 0 - Offensive language \n",
    "### 1 -  hateful speech"
   ]
  },
  {
   "cell_type": "code",
   "execution_count": 76,
   "id": "39f2f29e",
   "metadata": {},
   "outputs": [],
   "source": [
    "# Filtering dataset to include only offensive language and hateful speech rows\n",
    "df_v4 = df_v2[(df_v2['class'] == 0) | (df_v2['class'] == 2)]"
   ]
  },
  {
   "cell_type": "code",
   "execution_count": 77,
   "id": "a423ed41",
   "metadata": {},
   "outputs": [
    {
     "name": "stdout",
     "output_type": "stream",
     "text": [
      "<class 'pandas.core.frame.DataFrame'>\n",
      "Index: 5592 entries, 0 to 25296\n",
      "Data columns (total 15 columns):\n",
      " #   Column                           Non-Null Count  Dtype  \n",
      "---  ------                           --------------  -----  \n",
      " 0   count                            5592 non-null   int64  \n",
      " 1   hate_speech                      5592 non-null   int64  \n",
      " 2   offensive_language               5592 non-null   int64  \n",
      " 3   neither                          5592 non-null   int64  \n",
      " 4   class                            5592 non-null   int64  \n",
      " 5   tweet                            5592 non-null   object \n",
      " 6   tweet_length                     5592 non-null   int64  \n",
      " 7   tweet_edited                     5592 non-null   object \n",
      " 8   hate_speech_rating               5592 non-null   float64\n",
      " 9   offensive_language_rating        5592 non-null   float64\n",
      " 10  neither_rating                   5592 non-null   float64\n",
      " 11  hate_speech_rating_words         5592 non-null   object \n",
      " 12  offensive_language_rating_words  5592 non-null   object \n",
      " 13  neither_rating_words             5592 non-null   object \n",
      " 14  tweet_edited_with_ratings        5592 non-null   object \n",
      "dtypes: float64(3), int64(6), object(6)\n",
      "memory usage: 699.0+ KB\n"
     ]
    }
   ],
   "source": [
    "df_v4.info()"
   ]
  },
  {
   "cell_type": "code",
   "execution_count": 78,
   "id": "5a9f4208",
   "metadata": {},
   "outputs": [
    {
     "data": {
      "text/html": [
       "<div>\n",
       "<style scoped>\n",
       "    .dataframe tbody tr th:only-of-type {\n",
       "        vertical-align: middle;\n",
       "    }\n",
       "\n",
       "    .dataframe tbody tr th {\n",
       "        vertical-align: top;\n",
       "    }\n",
       "\n",
       "    .dataframe thead th {\n",
       "        text-align: right;\n",
       "    }\n",
       "</style>\n",
       "<table border=\"1\" class=\"dataframe\">\n",
       "  <thead>\n",
       "    <tr style=\"text-align: right;\">\n",
       "      <th></th>\n",
       "      <th>count</th>\n",
       "      <th>hate_speech</th>\n",
       "      <th>offensive_language</th>\n",
       "      <th>neither</th>\n",
       "      <th>class</th>\n",
       "      <th>tweet</th>\n",
       "      <th>tweet_length</th>\n",
       "      <th>tweet_edited</th>\n",
       "      <th>hate_speech_rating</th>\n",
       "      <th>offensive_language_rating</th>\n",
       "      <th>neither_rating</th>\n",
       "      <th>hate_speech_rating_words</th>\n",
       "      <th>offensive_language_rating_words</th>\n",
       "      <th>neither_rating_words</th>\n",
       "      <th>tweet_edited_with_ratings</th>\n",
       "    </tr>\n",
       "  </thead>\n",
       "  <tbody>\n",
       "    <tr>\n",
       "      <th>0</th>\n",
       "      <td>3</td>\n",
       "      <td>0</td>\n",
       "      <td>0</td>\n",
       "      <td>3</td>\n",
       "      <td>2</td>\n",
       "      <td>!!! RT @mayasolovely: As a woman you shouldn't...</td>\n",
       "      <td>140</td>\n",
       "      <td>RT woman shouldnt complain cleaning house amp ...</td>\n",
       "      <td>0.0</td>\n",
       "      <td>0.000000</td>\n",
       "      <td>1.000000</td>\n",
       "      <td>zero</td>\n",
       "      <td>zero</td>\n",
       "      <td>one</td>\n",
       "      <td>RT woman shouldnt complain cleaning house amp ...</td>\n",
       "    </tr>\n",
       "    <tr>\n",
       "      <th>40</th>\n",
       "      <td>3</td>\n",
       "      <td>0</td>\n",
       "      <td>1</td>\n",
       "      <td>2</td>\n",
       "      <td>2</td>\n",
       "      <td>\" momma said no pussy cats inside my doghouse \"</td>\n",
       "      <td>47</td>\n",
       "      <td>momma said pussy cats inside doghouse</td>\n",
       "      <td>0.0</td>\n",
       "      <td>0.333333</td>\n",
       "      <td>0.666667</td>\n",
       "      <td>zero</td>\n",
       "      <td>zero point three</td>\n",
       "      <td>zero point seven</td>\n",
       "      <td>momma said pussy cats inside doghouse zero zer...</td>\n",
       "    </tr>\n",
       "  </tbody>\n",
       "</table>\n",
       "</div>"
      ],
      "text/plain": [
       "    count  hate_speech  offensive_language  neither  class  \\\n",
       "0       3            0                   0        3      2   \n",
       "40      3            0                   1        2      2   \n",
       "\n",
       "                                                tweet  tweet_length  \\\n",
       "0   !!! RT @mayasolovely: As a woman you shouldn't...           140   \n",
       "40    \" momma said no pussy cats inside my doghouse \"            47   \n",
       "\n",
       "                                         tweet_edited  hate_speech_rating  \\\n",
       "0   RT woman shouldnt complain cleaning house amp ...                 0.0   \n",
       "40              momma said pussy cats inside doghouse                 0.0   \n",
       "\n",
       "    offensive_language_rating  neither_rating hate_speech_rating_words  \\\n",
       "0                    0.000000        1.000000                     zero   \n",
       "40                   0.333333        0.666667                     zero   \n",
       "\n",
       "   offensive_language_rating_words neither_rating_words  \\\n",
       "0                             zero                  one   \n",
       "40                zero point three     zero point seven   \n",
       "\n",
       "                            tweet_edited_with_ratings  \n",
       "0   RT woman shouldnt complain cleaning house amp ...  \n",
       "40  momma said pussy cats inside doghouse zero zer...  "
      ]
     },
     "execution_count": 78,
     "metadata": {},
     "output_type": "execute_result"
    }
   ],
   "source": [
    "df_v4.head(2)"
   ]
  },
  {
   "cell_type": "code",
   "execution_count": 79,
   "id": "8073db0e",
   "metadata": {},
   "outputs": [],
   "source": [
    "# Further filtering\n",
    "df_v4_filtered = df_v4[['tweet_edited_with_ratings','class']]"
   ]
  },
  {
   "cell_type": "code",
   "execution_count": 80,
   "id": "40044b07",
   "metadata": {},
   "outputs": [
    {
     "name": "stderr",
     "output_type": "stream",
     "text": [
      "/var/folders/4z/s5yytqj535948_tn28lrcsr40000gn/T/ipykernel_12554/1337221479.py:4: SettingWithCopyWarning: \n",
      "A value is trying to be set on a copy of a slice from a DataFrame.\n",
      "Try using .loc[row_indexer,col_indexer] = value instead\n",
      "\n",
      "See the caveats in the documentation: https://pandas.pydata.org/pandas-docs/stable/user_guide/indexing.html#returning-a-view-versus-a-copy\n",
      "  df_v4_filtered['class_new'] = df_v4_filtered['class'].apply(lambda x: 0 if x == 2 else 1)\n"
     ]
    }
   ],
   "source": [
    "# Renaming classes\n",
    "# 0 - offensive language\n",
    "# 1 - hateful speech\n",
    "df_v4_filtered['class_new'] = df_v4_filtered['class'].apply(lambda x: 0 if x == 2 else 1)"
   ]
  },
  {
   "cell_type": "code",
   "execution_count": 81,
   "id": "55373dba",
   "metadata": {},
   "outputs": [
    {
     "data": {
      "text/html": [
       "<div>\n",
       "<style scoped>\n",
       "    .dataframe tbody tr th:only-of-type {\n",
       "        vertical-align: middle;\n",
       "    }\n",
       "\n",
       "    .dataframe tbody tr th {\n",
       "        vertical-align: top;\n",
       "    }\n",
       "\n",
       "    .dataframe thead th {\n",
       "        text-align: right;\n",
       "    }\n",
       "</style>\n",
       "<table border=\"1\" class=\"dataframe\">\n",
       "  <thead>\n",
       "    <tr style=\"text-align: right;\">\n",
       "      <th></th>\n",
       "      <th>tweet_edited_with_ratings</th>\n",
       "      <th>class</th>\n",
       "      <th>class_new</th>\n",
       "    </tr>\n",
       "  </thead>\n",
       "  <tbody>\n",
       "    <tr>\n",
       "      <th>0</th>\n",
       "      <td>RT woman shouldnt complain cleaning house amp ...</td>\n",
       "      <td>2</td>\n",
       "      <td>0</td>\n",
       "    </tr>\n",
       "    <tr>\n",
       "      <th>40</th>\n",
       "      <td>momma said pussy cats inside doghouse zero zer...</td>\n",
       "      <td>2</td>\n",
       "      <td>0</td>\n",
       "    </tr>\n",
       "    <tr>\n",
       "      <th>63</th>\n",
       "      <td>Addicted2Guys SimplyAddictedToGuys httptco1jL4...</td>\n",
       "      <td>2</td>\n",
       "      <td>0</td>\n",
       "    </tr>\n",
       "    <tr>\n",
       "      <th>66</th>\n",
       "      <td>AllAboutManFeet httptco3gzUpfuMev woof woof ho...</td>\n",
       "      <td>2</td>\n",
       "      <td>0</td>\n",
       "    </tr>\n",
       "    <tr>\n",
       "      <th>67</th>\n",
       "      <td>Allyhaaaaa Lemmie eat Oreo amp dishes One oreo...</td>\n",
       "      <td>2</td>\n",
       "      <td>0</td>\n",
       "    </tr>\n",
       "    <tr>\n",
       "      <th>70</th>\n",
       "      <td>ArizonasFinest6 eggplant emoji doey say looked...</td>\n",
       "      <td>2</td>\n",
       "      <td>0</td>\n",
       "    </tr>\n",
       "    <tr>\n",
       "      <th>75</th>\n",
       "      <td>BabyAnimalPics baby monkey bathtime httptco7KP...</td>\n",
       "      <td>2</td>\n",
       "      <td>0</td>\n",
       "    </tr>\n",
       "    <tr>\n",
       "      <th>85</th>\n",
       "      <td>Blackman38Tide queer gaywad zero point seven z...</td>\n",
       "      <td>0</td>\n",
       "      <td>1</td>\n",
       "    </tr>\n",
       "    <tr>\n",
       "      <th>90</th>\n",
       "      <td>CBBaby24 alsarabsss hes beaner smh tell hes me...</td>\n",
       "      <td>0</td>\n",
       "      <td>1</td>\n",
       "    </tr>\n",
       "    <tr>\n",
       "      <th>111</th>\n",
       "      <td>DevilGrimz youre fucking gay blacklisted hoe H...</td>\n",
       "      <td>0</td>\n",
       "      <td>1</td>\n",
       "    </tr>\n",
       "  </tbody>\n",
       "</table>\n",
       "</div>"
      ],
      "text/plain": [
       "                             tweet_edited_with_ratings  class  class_new\n",
       "0    RT woman shouldnt complain cleaning house amp ...      2          0\n",
       "40   momma said pussy cats inside doghouse zero zer...      2          0\n",
       "63   Addicted2Guys SimplyAddictedToGuys httptco1jL4...      2          0\n",
       "66   AllAboutManFeet httptco3gzUpfuMev woof woof ho...      2          0\n",
       "67   Allyhaaaaa Lemmie eat Oreo amp dishes One oreo...      2          0\n",
       "70   ArizonasFinest6 eggplant emoji doey say looked...      2          0\n",
       "75   BabyAnimalPics baby monkey bathtime httptco7KP...      2          0\n",
       "85   Blackman38Tide queer gaywad zero point seven z...      0          1\n",
       "90   CBBaby24 alsarabsss hes beaner smh tell hes me...      0          1\n",
       "111  DevilGrimz youre fucking gay blacklisted hoe H...      0          1"
      ]
     },
     "execution_count": 81,
     "metadata": {},
     "output_type": "execute_result"
    }
   ],
   "source": [
    "df_v4_filtered.head(10)"
   ]
  },
  {
   "cell_type": "code",
   "execution_count": null,
   "id": "5d4f2848",
   "metadata": {},
   "outputs": [],
   "source": []
  },
  {
   "cell_type": "code",
   "execution_count": 82,
   "id": "7a7b83dc",
   "metadata": {},
   "outputs": [],
   "source": [
    "tweet__train,tweet__test,label__train,label__test=train_test_split(df_v4_filtered['tweet_edited_with_ratings'],\n",
    "                                                           df_v4_filtered['class_new'],\n",
    "                                                           test_size=0.25,\n",
    "                                                              stratify=df_v4_filtered['class_new'])"
   ]
  },
  {
   "cell_type": "markdown",
   "id": "d632756c",
   "metadata": {},
   "source": [
    "### Naive Bayes Classifier"
   ]
  },
  {
   "cell_type": "code",
   "execution_count": 83,
   "id": "c2f53e3a",
   "metadata": {},
   "outputs": [
    {
     "name": "stdout",
     "output_type": "stream",
     "text": [
      "[[1000   40]\n",
      " [ 116  242]]\n",
      "\n",
      "\n",
      "              precision    recall  f1-score   support\n",
      "\n",
      "           0       0.90      0.96      0.93      1040\n",
      "           1       0.86      0.68      0.76       358\n",
      "\n",
      "    accuracy                           0.89      1398\n",
      "   macro avg       0.88      0.82      0.84      1398\n",
      "weighted avg       0.89      0.89      0.88      1398\n",
      "\n"
     ]
    }
   ],
   "source": [
    "pipeline = Pipeline([\n",
    "    ('bow', CountVectorizer()),\n",
    "    ('tfidf',TfidfTransformer()),\n",
    "    ('classifier', BernoulliNB())\n",
    "])\n",
    "\n",
    "pipeline.fit(tweet__train,label__train)\n",
    "\n",
    "predictions = pipeline.predict(tweet__test)\n",
    "\n",
    "\n",
    "print(confusion_matrix(label__test, predictions))\n",
    "print('\\n')\n",
    "print(classification_report(label__test, predictions)) "
   ]
  },
  {
   "cell_type": "markdown",
   "id": "9edbea74",
   "metadata": {},
   "source": [
    "### Decision Tree Classifier"
   ]
  },
  {
   "cell_type": "code",
   "execution_count": 84,
   "id": "9b9528eb",
   "metadata": {},
   "outputs": [
    {
     "name": "stdout",
     "output_type": "stream",
     "text": [
      "[[976  64]\n",
      " [ 70 288]]\n",
      "\n",
      "\n",
      "              precision    recall  f1-score   support\n",
      "\n",
      "           0       0.93      0.94      0.94      1040\n",
      "           1       0.82      0.80      0.81       358\n",
      "\n",
      "    accuracy                           0.90      1398\n",
      "   macro avg       0.88      0.87      0.87      1398\n",
      "weighted avg       0.90      0.90      0.90      1398\n",
      "\n"
     ]
    }
   ],
   "source": [
    "pipeline = Pipeline([\n",
    "    ('bow', CountVectorizer()),\n",
    "    ('tfidf',TfidfTransformer()),\n",
    "    ('classifier', DecisionTreeClassifier())\n",
    "])\n",
    "\n",
    "pipeline.fit(tweet__train,label__train)\n",
    "\n",
    "predictions = pipeline.predict(tweet__test)\n",
    "\n",
    "\n",
    "print(confusion_matrix(label__test, predictions))\n",
    "print('\\n')\n",
    "print(classification_report(label__test, predictions))      "
   ]
  },
  {
   "cell_type": "markdown",
   "id": "6bbcead0",
   "metadata": {},
   "source": [
    "### Random Forest Classifier"
   ]
  },
  {
   "cell_type": "code",
   "execution_count": 85,
   "id": "b0f7c3fd",
   "metadata": {},
   "outputs": [
    {
     "name": "stdout",
     "output_type": "stream",
     "text": [
      "[[1011   29]\n",
      " [  93  265]]\n",
      "\n",
      "\n",
      "              precision    recall  f1-score   support\n",
      "\n",
      "           0       0.92      0.97      0.94      1040\n",
      "           1       0.90      0.74      0.81       358\n",
      "\n",
      "    accuracy                           0.91      1398\n",
      "   macro avg       0.91      0.86      0.88      1398\n",
      "weighted avg       0.91      0.91      0.91      1398\n",
      "\n"
     ]
    }
   ],
   "source": [
    "pipeline = Pipeline([\n",
    "    ('bow', CountVectorizer()),\n",
    "    ('tfidf',TfidfTransformer()),\n",
    "    ('classifier', RandomForestClassifier())\n",
    "])\n",
    "\n",
    "pipeline.fit(tweet__train,label__train)\n",
    "\n",
    "predictions = pipeline.predict(tweet__test)\n",
    "\n",
    "\n",
    "print(confusion_matrix(label__test, predictions))\n",
    "print('\\n')\n",
    "print(classification_report(label__test, predictions))   "
   ]
  },
  {
   "cell_type": "markdown",
   "id": "9ed1ba0e",
   "metadata": {},
   "source": [
    "### Support Vector Machines"
   ]
  },
  {
   "cell_type": "code",
   "execution_count": 86,
   "id": "a1c23320",
   "metadata": {},
   "outputs": [
    {
     "name": "stdout",
     "output_type": "stream",
     "text": [
      "[[1017   23]\n",
      " [  93  265]]\n",
      "\n",
      "\n",
      "              precision    recall  f1-score   support\n",
      "\n",
      "           0       0.92      0.98      0.95      1040\n",
      "           1       0.92      0.74      0.82       358\n",
      "\n",
      "    accuracy                           0.92      1398\n",
      "   macro avg       0.92      0.86      0.88      1398\n",
      "weighted avg       0.92      0.92      0.91      1398\n",
      "\n"
     ]
    }
   ],
   "source": [
    "pipeline = Pipeline([\n",
    "    ('bow', CountVectorizer()),\n",
    "    ('tfidf',TfidfTransformer()),\n",
    "    ('classifier', SVC())\n",
    "])\n",
    "\n",
    "pipeline.fit(tweet__train,label__train)\n",
    "\n",
    "predictions = pipeline.predict(tweet__test)\n",
    "\n",
    "\n",
    "print(confusion_matrix(label__test, predictions))\n",
    "print('\\n')\n",
    "print(classification_report(label__test, predictions))   "
   ]
  },
  {
   "cell_type": "code",
   "execution_count": null,
   "id": "6dfde5c4",
   "metadata": {},
   "outputs": [],
   "source": []
  }
 ],
 "metadata": {
  "kernelspec": {
   "display_name": "Python 3.10 (tensorflow)",
   "language": "python",
   "name": "tensorflow"
  },
  "language_info": {
   "codemirror_mode": {
    "name": "ipython",
    "version": 3
   },
   "file_extension": ".py",
   "mimetype": "text/x-python",
   "name": "python",
   "nbconvert_exporter": "python",
   "pygments_lexer": "ipython3",
   "version": "3.10.12"
  }
 },
 "nbformat": 4,
 "nbformat_minor": 5
}
